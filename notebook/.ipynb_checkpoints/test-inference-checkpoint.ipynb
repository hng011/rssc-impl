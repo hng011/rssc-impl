{
 "cells": [
  {
   "cell_type": "code",
   "execution_count": null,
   "id": "ad7132a1",
   "metadata": {},
   "outputs": [],
   "source": [
    "import tensorflow as tf\n",
    "import mlflow\n",
    "from PIL import Image\n",
    "import os\n",
    "import base64\n",
    "import io\n",
    "import numpy as np\n",
    "from transformers import ViTFeatureExtractor\n",
    "\n",
    "from dotenv import load_dotenv\n",
    "load_dotenv()"
   ]
  },
  {
   "cell_type": "markdown",
   "id": "d1cd3a09",
   "metadata": {},
   "source": [
    "# Load Utils"
   ]
  },
  {
   "cell_type": "code",
   "execution_count": null,
   "id": "a6ba5534",
   "metadata": {},
   "outputs": [],
   "source": [
    "mlflow.set_tracking_uri(os.getenv(\"MLFOW_TRACKING_SERVER_URL\"))\n",
    "mlflow.set_experiment(os.getenv(\"EXPERIMENT_NAME\"))"
   ]
  },
  {
   "cell_type": "code",
   "execution_count": null,
   "id": "426f9adb",
   "metadata": {},
   "outputs": [],
   "source": [
    "best_resnet50v2_uri =  f\"runs:/{os.getenv(\"MLFLOW_BEST_RESNET50V2_RUNID\")}/model\"\n",
    "best_convnexttiny_uri = f\"runs:/{os.getenv(\"MLFLOW_BEST_CONVNEXTTINY_RUNID\")}/model\"\n",
    "best_vit_uri = f\"runs:/{os.getenv(\"MLFLOW_BEST_VIT_RUNID\")}/model\"\n",
    "\n",
    "models = {\n",
    "    \"Best ResNet50v2\": mlflow.tensorflow.load_model(best_resnet50v2_uri), \n",
    "    \"Best ConvNeXt-Tiny\": mlflow.tensorflow.load_model(best_convnexttiny_uri), \n",
    "    \"Best ViT Patch16 In1k\": mlflow.tensorflow.load_model(best_vit_uri) \n",
    "}\n",
    "\n",
    "fe = ViTFeatureExtractor.from_pretrained(\"google/vit-base-patch16-224\")"
   ]
  },
  {
   "cell_type": "code",
   "execution_count": null,
   "id": "64eb6e2a",
   "metadata": {},
   "outputs": [],
   "source": [
    "def predict_img_vit(model, image_data_b64):\n",
    "    id2label = {\n",
    "        0: 'airplane', 1: 'cloud', 10: 'ship', 11: 'airport', 12: 'river', 13: 'golf_course', 14: 'roundabout', 15: 'church', 16: 'circular_farmland', 17: 'overpass', 18: 'railway', 19: 'wetland', 2: 'mountain', 20: 'lake', 21: 'parking_lot', 22: 'intersection', 23: 'tennis_court', 24: 'runway', 25: 'industrial_area', 26: 'chaparral', 27: 'bridge', 28: 'sparse_residential', 29: 'freeway', 3: 'medium_residential', 30: 'sea_ice', 31: 'beach', 32: 'palace', 33: 'snowberg', 34: 'meadow', 35: 'ground_track_field', 36: 'harbor', 37: 'rectangular_farmland', 38: 'island', 39: 'basketball_court', 4: 'thermal_power_station', 40: 'desert', 41: 'stadium', 42: 'forest',43: 'storage_tank', 44: 'railway_station', 5: 'terrace', 6: 'commercial_area', 7: 'dense_residential', 8: 'baseball_diamond', 9: 'mobile_home_park'\n",
    "    }\n",
    "    \n",
    "    decoded = base64.b64decode(image_data_b64)\n",
    "    image = Image.open(io.BytesIO(decoded)).convert(\"RGB\")    \n",
    "    inputs = fe(images=image, return_tensors=\"tf\")\n",
    "    outputs = model({\"pixel_values\": inputs[\"pixel_values\"]}, training=False)\n",
    "    logits = outputs[\"logits\"] if isinstance(outputs, dict) else outputs\n",
    "    \n",
    "\n",
    "    probs = tf.nn.softmax(logits, axis=-1).numpy()[0]\n",
    "    predicted_class_idx = int(tf.argmax(probs))\n",
    "    acc = float(probs[predicted_class_idx])\n",
    "\n",
    "    predicted_label = id2label[predicted_class_idx]\n",
    "    \n",
    "    return (\n",
    "        predicted_label, \n",
    "        acc * 100\n",
    "    )\n",
    "\n",
    "def predict_img_cnn(model, image_data_b64):\n",
    "    CLASSES = ['airplane', 'airport', 'baseball_diamond', 'basketball_court', 'beach', 'bridge', 'chaparral', 'church', 'circular_farmland', 'cloud', 'commercial_area', 'dense_residential', 'desert', 'forest', 'freeway', 'golf_course', 'ground_track_field', 'harbor', 'industrial_area', 'intersection', 'island', 'lake', 'meadow', 'medium_residential', 'mobile_home_park', 'mountain', 'overpass', 'palace', 'parking_lot', 'railway', 'railway_station', 'rectangular_farmland', 'river', 'roundabout', 'runway', 'sea_ice', 'ship', 'snowberg', 'sparse_residential', 'stadium', 'storage_tank', 'tennis_court', 'terrace', 'thermal_power_station', 'wetland']\n",
    "    \n",
    "    decoded = base64.b64decode(image_data_b64)\n",
    "    image = Image.open(io.BytesIO(decoded)).convert(\"RGB\")\n",
    "    image = image.resize((224, 224))  \n",
    "    img_array = tf.keras.preprocessing.image.img_to_array(image)\n",
    "    img_array = tf.expand_dims(img_array, 0)  # add batch dim\n",
    "    img_array = img_array / 255.0\n",
    "    \n",
    "    logits = model.predict(img_array)[0]\n",
    "    probs = tf.nn.softmax(logits, axis=-1).numpy()\n",
    "    idx = np.argmax(probs)\n",
    "    \n",
    "    return (\n",
    "        CLASSES[idx], \n",
    "        float(probs[idx]) * 100, \n",
    "    )"
   ]
  },
  {
   "cell_type": "code",
   "execution_count": null,
   "id": "b69aad92",
   "metadata": {},
   "outputs": [],
   "source": [
    "img_p = \"../../datasets/CLEAN_NWPU-RESISC45-SAMPLE500-SPLITTED8515/test/desert/desert_023.jpg\"\n",
    "\n",
    "with open(img_p, \"rb\") as img_f:\n",
    "    img_b64 = base64.b64encode(img_f.read())\n",
    "\n",
    "resnet_label, resnet_acc = predict_img_cnn(models[\"Best ResNet50v2\"], img_b64)\n",
    "convnext_label, convnext_acc = predict_img_cnn(models[\"Best ConvNeXt-Tiny\"], img_b64)\n",
    "vit_label, vit_acc = predict_img_vit(models[\"Best ViT Patch16 In1k\"], img_b64)\n",
    "\n",
    "print(f\"ResNet50v2: {resnet_label} ({resnet_acc:.2f}%)\")\n",
    "print(f\"ConvNeXt-Tiny: {convnext_label} ({convnext_acc:.2f}%)\")\n",
    "print(f\"ViT: {vit_label} ({vit_acc:.2f}%)\")"
   ]
  }
 ],
 "metadata": {
  "kernelspec": {
   "display_name": "Python 3 (ipykernel)",
   "language": "python",
   "name": "python3"
  },
  "language_info": {
   "codemirror_mode": {
    "name": "ipython",
    "version": 3
   },
   "file_extension": ".py",
   "mimetype": "text/x-python",
   "name": "python",
   "nbconvert_exporter": "python",
   "pygments_lexer": "ipython3",
   "version": "3.12.8"
  }
 },
 "nbformat": 4,
 "nbformat_minor": 5
}
