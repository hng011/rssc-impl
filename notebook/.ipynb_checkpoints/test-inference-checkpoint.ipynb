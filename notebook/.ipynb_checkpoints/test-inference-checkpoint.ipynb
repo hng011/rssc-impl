{
 "cells": [
  {
   "cell_type": "code",
   "execution_count": 1,
   "id": "ad7132a1",
   "metadata": {},
   "outputs": [
    {
     "name": "stderr",
     "output_type": "stream",
     "text": [
      "2025-06-15 19:42:24.147460: I tensorflow/core/util/port.cc:153] oneDNN custom operations are on. You may see slightly different numerical results due to floating-point round-off errors from different computation orders. To turn them off, set the environment variable `TF_ENABLE_ONEDNN_OPTS=0`.\n",
      "2025-06-15 19:42:24.155928: E external/local_xla/xla/stream_executor/cuda/cuda_fft.cc:477] Unable to register cuFFT factory: Attempting to register factory for plugin cuFFT when one has already been registered\n",
      "WARNING: All log messages before absl::InitializeLog() is called are written to STDERR\n",
      "E0000 00:00:1749991344.165080    1156 cuda_dnn.cc:8310] Unable to register cuDNN factory: Attempting to register factory for plugin cuDNN when one has already been registered\n",
      "E0000 00:00:1749991344.167758    1156 cuda_blas.cc:1418] Unable to register cuBLAS factory: Attempting to register factory for plugin cuBLAS when one has already been registered\n",
      "2025-06-15 19:42:24.178276: I tensorflow/core/platform/cpu_feature_guard.cc:210] This TensorFlow binary is optimized to use available CPU instructions in performance-critical operations.\n",
      "To enable the following instructions: AVX2 AVX_VNNI FMA, in other operations, rebuild TensorFlow with the appropriate compiler flags.\n",
      "/home/lo0py/.venvs/tf2.18/lib/python3.12/site-packages/tqdm/auto.py:21: TqdmWarning: IProgress not found. Please update jupyter and ipywidgets. See https://ipywidgets.readthedocs.io/en/stable/user_install.html\n",
      "  from .autonotebook import tqdm as notebook_tqdm\n"
     ]
    },
    {
     "data": {
      "text/plain": [
       "True"
      ]
     },
     "execution_count": 1,
     "metadata": {},
     "output_type": "execute_result"
    }
   ],
   "source": [
    "import tensorflow as tf\n",
    "import mlflow\n",
    "from PIL import Image\n",
    "import os\n",
    "import base64\n",
    "import io\n",
    "import numpy as np\n",
    "from transformers import ViTFeatureExtractor\n",
    "\n",
    "from dotenv import load_dotenv\n",
    "load_dotenv()"
   ]
  },
  {
   "cell_type": "markdown",
   "id": "d1cd3a09",
   "metadata": {},
   "source": [
    "# Load Utils"
   ]
  },
  {
   "cell_type": "code",
   "execution_count": 2,
   "id": "a6ba5534",
   "metadata": {},
   "outputs": [
    {
     "data": {
      "text/plain": [
       "<Experiment: artifact_location='wasbs://model-artifacts@rsscmodelartifacts.blob.core.windows.net/2', creation_time=1749288366689, experiment_id='2', last_update_time=1749288366689, lifecycle_stage='active', name='Experiment Remote Env', tags={}>"
      ]
     },
     "execution_count": 2,
     "metadata": {},
     "output_type": "execute_result"
    }
   ],
   "source": [
    "mlflow.set_tracking_uri(os.getenv(\"MLFOW_TRACKING_SERVER_URL\"))\n",
    "mlflow.set_experiment(\"Experiment Remote Env\")"
   ]
  },
  {
   "cell_type": "code",
   "execution_count": 3,
   "id": "426f9adb",
   "metadata": {},
   "outputs": [
    {
     "name": "stderr",
     "output_type": "stream",
     "text": [
      "Downloading artifacts: 100%|██████████████████████████████████████████████████████████████| 7/7 [00:52<00:00,  7.44s/it]\n",
      "I0000 00:00:1749991402.544568    1156 gpu_device.cc:2022] Created device /job:localhost/replica:0/task:0/device:GPU:0 with 5563 MB memory:  -> device: 0, name: NVIDIA GeForce RTX 4060 Laptop GPU, pci bus id: 0000:01:00.0, compute capability: 8.9\n",
      "Downloading artifacts: 100%|██████████████████████████████████████████████████████████████| 7/7 [00:59<00:00,  8.55s/it]\n",
      "Downloading artifacts: 100%|██████████████████████████████████████████████████████████████| 8/8 [01:24<00:00, 10.61s/it]\n",
      "/home/lo0py/.venvs/tf2.18/lib/python3.12/site-packages/transformers/models/vit/feature_extraction_vit.py:30: FutureWarning: The class ViTFeatureExtractor is deprecated and will be removed in version 5 of Transformers. Please use ViTImageProcessor instead.\n",
      "  warnings.warn(\n"
     ]
    }
   ],
   "source": [
    "best_resnet50v2_uri =  f\"runs:/{os.getenv(\"MLFLOW_BEST_RESNET50V2_RUNID\")}/model\"\n",
    "best_convnexttiny_uri = f\"runs:/{os.getenv(\"MLFLOW_BEST_CONVNEXTTINY_RUNID\")}/model\"\n",
    "best_vit_uri = f\"runs:/{os.getenv(\"MLFLOW_BEST_VIT_RUNID\")}/model\"\n",
    "\n",
    "models = {\n",
    "    \"Best ResNet50v2\": mlflow.tensorflow.load_model(best_resnet50v2_uri), \n",
    "    \"Best ConvNeXt-Tiny\": mlflow.tensorflow.load_model(best_convnexttiny_uri), \n",
    "    \"Best ViT Patch16 In1k\": mlflow.tensorflow.load_model(best_vit_uri) \n",
    "}\n",
    "\n",
    "fe = ViTFeatureExtractor.from_pretrained(\"google/vit-base-patch16-224\")"
   ]
  },
  {
   "cell_type": "code",
   "execution_count": 18,
   "id": "64eb6e2a",
   "metadata": {},
   "outputs": [],
   "source": [
    "def predict_img_vit(model, image_data_b64):\n",
    "    id2label = {\n",
    "        0: 'airplane', 1: 'cloud', 10: 'ship', 11: 'airport', 12: 'river', 13: 'golf_course', 14: 'roundabout', 15: 'church', 16: 'circular_farmland', 17: 'overpass', 18: 'railway', 19: 'wetland', 2: 'mountain', 20: 'lake', 21: 'parking_lot', 22: 'intersection', 23: 'tennis_court', 24: 'runway', 25: 'industrial_area', 26: 'chaparral', 27: 'bridge', 28: 'sparse_residential', 29: 'freeway', 3: 'medium_residential', 30: 'sea_ice', 31: 'beach', 32: 'palace', 33: 'snowberg', 34: 'meadow', 35: 'ground_track_field', 36: 'harbor', 37: 'rectangular_farmland', 38: 'island', 39: 'basketball_court', 4: 'thermal_power_station', 40: 'desert', 41: 'stadium', 42: 'forest',43: 'storage_tank', 44: 'railway_station', 5: 'terrace', 6: 'commercial_area', 7: 'dense_residential', 8: 'baseball_diamond', 9: 'mobile_home_park'\n",
    "    }\n",
    "    \n",
    "    decoded = base64.b64decode(image_data_b64)\n",
    "    image = Image.open(io.BytesIO(decoded)).convert(\"RGB\")    \n",
    "    inputs = fe(images=image, return_tensors=\"tf\")\n",
    "    outputs = model({\"pixel_values\": inputs[\"pixel_values\"]}, training=False)\n",
    "    logits = outputs[\"logits\"] if isinstance(outputs, dict) else outputs\n",
    "    \n",
    "\n",
    "    probs = tf.nn.softmax(logits, axis=-1).numpy()[0]\n",
    "    predicted_class_idx = int(tf.argmax(probs))\n",
    "    acc = float(probs[predicted_class_idx])\n",
    "\n",
    "    predicted_label = id2label[predicted_class_idx]\n",
    "    \n",
    "    return (\n",
    "        predicted_label, \n",
    "        acc * 100\n",
    "    )\n",
    "\n",
    "def predict_img_cnn(model, image_data_b64):\n",
    "    CLASSES = ['airplane', 'airport', 'baseball_diamond', 'basketball_court', 'beach', 'bridge', 'chaparral', 'church', 'circular_farmland', 'cloud', 'commercial_area', 'dense_residential', 'desert', 'forest', 'freeway', 'golf_course', 'ground_track_field', 'harbor', 'industrial_area', 'intersection', 'island', 'lake', 'meadow', 'medium_residential', 'mobile_home_park', 'mountain', 'overpass', 'palace', 'parking_lot', 'railway', 'railway_station', 'rectangular_farmland', 'river', 'roundabout', 'runway', 'sea_ice', 'ship', 'snowberg', 'sparse_residential', 'stadium', 'storage_tank', 'tennis_court', 'terrace', 'thermal_power_station', 'wetland']\n",
    "    \n",
    "    decoded = base64.b64decode(image_data_b64)\n",
    "    image = Image.open(io.BytesIO(decoded)).convert(\"RGB\")\n",
    "    image = image.resize((224, 224))  \n",
    "    img_array = tf.keras.preprocessing.image.img_to_array(image)\n",
    "    img_array = tf.expand_dims(img_array, 0)  # add batch dim\n",
    "    img_array = img_array / 255.0\n",
    "    \n",
    "    logits = model.predict(img_array)[0]\n",
    "    probs = tf.nn.softmax(logits, axis=-1).numpy()\n",
    "    idx = np.argmax(probs)\n",
    "    \n",
    "    return (\n",
    "        CLASSES[idx], \n",
    "        float(probs[idx]) * 100, \n",
    "    )"
   ]
  },
  {
   "cell_type": "code",
   "execution_count": 19,
   "id": "b69aad92",
   "metadata": {},
   "outputs": [
    {
     "name": "stdout",
     "output_type": "stream",
     "text": [
      "\u001b[1m1/1\u001b[0m \u001b[32m━━━━━━━━━━━━━━━━━━━━\u001b[0m\u001b[37m\u001b[0m \u001b[1m0s\u001b[0m 80ms/step\n",
      "\u001b[1m1/1\u001b[0m \u001b[32m━━━━━━━━━━━━━━━━━━━━\u001b[0m\u001b[37m\u001b[0m \u001b[1m0s\u001b[0m 56ms/step\n",
      "ResNet50v2: desert (100.00%)\n",
      "ConvNeXt-Tiny: desert (99.99%)\n",
      "ViT: desert (99.99%)\n"
     ]
    }
   ],
   "source": [
    "img_p = \"../../datasets/CLEAN_NWPU-RESISC45-SAMPLE500-SPLITTED8515/test/desert/desert_023.jpg\"\n",
    "\n",
    "with open(img_p, \"rb\") as img_f:\n",
    "    img_b64 = base64.b64encode(img_f.read())\n",
    "\n",
    "resnet_label, resnet_acc = predict_img_cnn(models[\"Best ResNet50v2\"], img_b64)\n",
    "convnext_label, convnext_acc = predict_img_cnn(models[\"Best ConvNeXt-Tiny\"], img_b64)\n",
    "vit_label, vit_acc = predict_img_vit(models[\"Best ViT Patch16 In1k\"], img_b64)\n",
    "\n",
    "print(f\"ResNet50v2: {resnet_label} ({resnet_acc:.2f}%)\")\n",
    "print(f\"ConvNeXt-Tiny: {convnext_label} ({convnext_acc:.2f}%)\")\n",
    "print(f\"ViT: {vit_label} ({vit_acc:.2f}%)\")"
   ]
  }
 ],
 "metadata": {
  "kernelspec": {
   "display_name": "Python 3 (ipykernel)",
   "language": "python",
   "name": "python3"
  },
  "language_info": {
   "codemirror_mode": {
    "name": "ipython",
    "version": 3
   },
   "file_extension": ".py",
   "mimetype": "text/x-python",
   "name": "python",
   "nbconvert_exporter": "python",
   "pygments_lexer": "ipython3",
   "version": "3.12.8"
  }
 },
 "nbformat": 4,
 "nbformat_minor": 5
}
