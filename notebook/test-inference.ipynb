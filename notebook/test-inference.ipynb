{
 "cells": [
  {
   "cell_type": "code",
   "execution_count": 1,
   "id": "ad7132a1",
   "metadata": {},
   "outputs": [
    {
     "name": "stderr",
     "output_type": "stream",
     "text": [
      "2025-06-22 06:45:48.152631: I tensorflow/core/util/port.cc:153] oneDNN custom operations are on. You may see slightly different numerical results due to floating-point round-off errors from different computation orders. To turn them off, set the environment variable `TF_ENABLE_ONEDNN_OPTS=0`.\n",
      "2025-06-22 06:45:48.185027: E external/local_xla/xla/stream_executor/cuda/cuda_fft.cc:477] Unable to register cuFFT factory: Attempting to register factory for plugin cuFFT when one has already been registered\n",
      "WARNING: All log messages before absl::InitializeLog() is called are written to STDERR\n",
      "E0000 00:00:1750549548.208795    6771 cuda_dnn.cc:8310] Unable to register cuDNN factory: Attempting to register factory for plugin cuDNN when one has already been registered\n",
      "E0000 00:00:1750549548.217182    6771 cuda_blas.cc:1418] Unable to register cuBLAS factory: Attempting to register factory for plugin cuBLAS when one has already been registered\n",
      "2025-06-22 06:45:48.253776: I tensorflow/core/platform/cpu_feature_guard.cc:210] This TensorFlow binary is optimized to use available CPU instructions in performance-critical operations.\n",
      "To enable the following instructions: AVX2 AVX_VNNI FMA, in other operations, rebuild TensorFlow with the appropriate compiler flags.\n",
      "/home/lo0py/.venvs/tf2.18/lib/python3.12/site-packages/tqdm/auto.py:21: TqdmWarning: IProgress not found. Please update jupyter and ipywidgets. See https://ipywidgets.readthedocs.io/en/stable/user_install.html\n",
      "  from .autonotebook import tqdm as notebook_tqdm\n"
     ]
    },
    {
     "data": {
      "text/plain": [
       "True"
      ]
     },
     "execution_count": 1,
     "metadata": {},
     "output_type": "execute_result"
    }
   ],
   "source": [
    "import tensorflow as tf\n",
    "import mlflow\n",
    "from PIL import Image\n",
    "import os\n",
    "import base64\n",
    "import io\n",
    "import numpy as np\n",
    "from transformers import ViTFeatureExtractor\n",
    "\n",
    "from dotenv import load_dotenv\n",
    "load_dotenv()"
   ]
  },
  {
   "cell_type": "markdown",
   "id": "d1cd3a09",
   "metadata": {},
   "source": [
    "# Load Utils"
   ]
  },
  {
   "cell_type": "code",
   "execution_count": 2,
   "id": "a6ba5534",
   "metadata": {},
   "outputs": [
    {
     "data": {
      "text/plain": [
       "<Experiment: artifact_location='wasbs://model-artifacts@rsscmodelartifacts.blob.core.windows.net/1', creation_time=1750529138044, experiment_id='1', last_update_time=1750529138044, lifecycle_stage='active', name='RSSC', tags={}>"
      ]
     },
     "execution_count": 2,
     "metadata": {},
     "output_type": "execute_result"
    }
   ],
   "source": [
    "mlflow.set_tracking_uri(os.getenv(\"MLFOW_TRACKING_SERVER_URL\"))\n",
    "mlflow.set_experiment(os.getenv(\"EXPERIMENT_NAME\"))"
   ]
  },
  {
   "cell_type": "code",
   "execution_count": 3,
   "id": "426f9adb",
   "metadata": {},
   "outputs": [
    {
     "name": "stderr",
     "output_type": "stream",
     "text": [
      "Downloading artifacts:  86%|████████████████████████████████████████████████████▎        | 6/7 [10:54<01:49, 109.12s/it]\n"
     ]
    },
    {
     "ename": "KeyboardInterrupt",
     "evalue": "",
     "output_type": "error",
     "traceback": [
      "\u001b[31m---------------------------------------------------------------------------\u001b[39m",
      "\u001b[31mKeyboardInterrupt\u001b[39m                         Traceback (most recent call last)",
      "\u001b[36mCell\u001b[39m\u001b[36m \u001b[39m\u001b[32mIn[3]\u001b[39m\u001b[32m, line 6\u001b[39m\n\u001b[32m      2\u001b[39m best_convnexttiny_uri = \u001b[33mf\u001b[39m\u001b[33m\"\u001b[39m\u001b[33mruns:/\u001b[39m\u001b[38;5;132;01m{\u001b[39;00mos.getenv(\u001b[33m\"\u001b[39m\u001b[33mMLFLOW_BEST_CONVNEXTTINY_RUNID\u001b[39m\u001b[33m\"\u001b[39m)\u001b[38;5;132;01m}\u001b[39;00m\u001b[33m/model\u001b[39m\u001b[33m\"\u001b[39m\n\u001b[32m      3\u001b[39m best_vit_uri = \u001b[33mf\u001b[39m\u001b[33m\"\u001b[39m\u001b[33mruns:/\u001b[39m\u001b[38;5;132;01m{\u001b[39;00mos.getenv(\u001b[33m\"\u001b[39m\u001b[33mMLFLOW_BEST_VIT_RUNID\u001b[39m\u001b[33m\"\u001b[39m)\u001b[38;5;132;01m}\u001b[39;00m\u001b[33m/model\u001b[39m\u001b[33m\"\u001b[39m\n\u001b[32m      5\u001b[39m models = {\n\u001b[32m----> \u001b[39m\u001b[32m6\u001b[39m     \u001b[33m\"\u001b[39m\u001b[33mBest ResNet50v2\u001b[39m\u001b[33m\"\u001b[39m: \u001b[43mmlflow\u001b[49m\u001b[43m.\u001b[49m\u001b[43mtensorflow\u001b[49m\u001b[43m.\u001b[49m\u001b[43mload_model\u001b[49m\u001b[43m(\u001b[49m\u001b[43mbest_resnet50v2_uri\u001b[49m\u001b[43m)\u001b[49m, \n\u001b[32m      7\u001b[39m     \u001b[33m\"\u001b[39m\u001b[33mBest ConvNeXt-Tiny\u001b[39m\u001b[33m\"\u001b[39m: mlflow.tensorflow.load_model(best_convnexttiny_uri), \n\u001b[32m      8\u001b[39m     \u001b[33m\"\u001b[39m\u001b[33mBest ViT Patch16 In1k\u001b[39m\u001b[33m\"\u001b[39m: mlflow.tensorflow.load_model(best_vit_uri) \n\u001b[32m      9\u001b[39m }\n\u001b[32m     11\u001b[39m fe = ViTFeatureExtractor.from_pretrained(\u001b[33m\"\u001b[39m\u001b[33mgoogle/vit-base-patch16-224\u001b[39m\u001b[33m\"\u001b[39m)\n",
      "\u001b[36mFile \u001b[39m\u001b[32m~/.venvs/tf2.18/lib/python3.12/site-packages/mlflow/tensorflow/__init__.py:613\u001b[39m, in \u001b[36mload_model\u001b[39m\u001b[34m(model_uri, dst_path, saved_model_kwargs, keras_model_kwargs)\u001b[39m\n\u001b[32m    584\u001b[39m \u001b[38;5;250m\u001b[39m\u001b[33;03m\"\"\"\u001b[39;00m\n\u001b[32m    585\u001b[39m \u001b[33;03mLoad an MLflow model that contains the TensorFlow flavor from the specified path.\u001b[39;00m\n\u001b[32m    586\u001b[39m \n\u001b[32m   (...)\u001b[39m\u001b[32m    609\u001b[39m \u001b[33;03m    A callable graph (tf.function) that takes inputs and returns inferences.\u001b[39;00m\n\u001b[32m    610\u001b[39m \u001b[33;03m\"\"\"\u001b[39;00m\n\u001b[32m    611\u001b[39m \u001b[38;5;28;01mimport\u001b[39;00m \u001b[34;01mtensorflow\u001b[39;00m \u001b[38;5;28;01mas\u001b[39;00m \u001b[34;01mtf\u001b[39;00m\n\u001b[32m--> \u001b[39m\u001b[32m613\u001b[39m local_model_path = \u001b[43m_download_artifact_from_uri\u001b[49m\u001b[43m(\u001b[49m\u001b[43martifact_uri\u001b[49m\u001b[43m=\u001b[49m\u001b[43mmodel_uri\u001b[49m\u001b[43m,\u001b[49m\u001b[43m \u001b[49m\u001b[43moutput_path\u001b[49m\u001b[43m=\u001b[49m\u001b[43mdst_path\u001b[49m\u001b[43m)\u001b[49m\n\u001b[32m    615\u001b[39m model_configuration_path = os.path.join(local_model_path, MLMODEL_FILE_NAME)\n\u001b[32m    616\u001b[39m model_conf = Model.load(model_configuration_path)\n",
      "\u001b[36mFile \u001b[39m\u001b[32m~/.venvs/tf2.18/lib/python3.12/site-packages/mlflow/tracking/artifact_utils.py:116\u001b[39m, in \u001b[36m_download_artifact_from_uri\u001b[39m\u001b[34m(artifact_uri, output_path, lineage_header_info)\u001b[39m\n\u001b[32m    110\u001b[39m \u001b[38;5;28;01mif\u001b[39;00m \u001b[38;5;28misinstance\u001b[39m(repo, ModelsArtifactRepository):\n\u001b[32m    111\u001b[39m     \u001b[38;5;28;01mreturn\u001b[39;00m repo.download_artifacts(\n\u001b[32m    112\u001b[39m         artifact_path=artifact_path,\n\u001b[32m    113\u001b[39m         dst_path=output_path,\n\u001b[32m    114\u001b[39m         lineage_header_info=lineage_header_info,\n\u001b[32m    115\u001b[39m     )\n\u001b[32m--> \u001b[39m\u001b[32m116\u001b[39m \u001b[38;5;28;01mreturn\u001b[39;00m \u001b[43mrepo\u001b[49m\u001b[43m.\u001b[49m\u001b[43mdownload_artifacts\u001b[49m\u001b[43m(\u001b[49m\u001b[43martifact_path\u001b[49m\u001b[43m=\u001b[49m\u001b[43martifact_path\u001b[49m\u001b[43m,\u001b[49m\u001b[43m \u001b[49m\u001b[43mdst_path\u001b[49m\u001b[43m=\u001b[49m\u001b[43moutput_path\u001b[49m\u001b[43m)\u001b[49m\n",
      "\u001b[36mFile \u001b[39m\u001b[32m~/.venvs/tf2.18/lib/python3.12/site-packages/mlflow/store/artifact/runs_artifact_repo.py:131\u001b[39m, in \u001b[36mRunsArtifactRepository.download_artifacts\u001b[39m\u001b[34m(self, artifact_path, dst_path)\u001b[39m\n\u001b[32m    114\u001b[39m \u001b[38;5;28;01mdef\u001b[39;00m \u001b[34mdownload_artifacts\u001b[39m(\u001b[38;5;28mself\u001b[39m, artifact_path, dst_path=\u001b[38;5;28;01mNone\u001b[39;00m):\n\u001b[32m    115\u001b[39m \u001b[38;5;250m    \u001b[39m\u001b[33;03m\"\"\"\u001b[39;00m\n\u001b[32m    116\u001b[39m \u001b[33;03m    Download an artifact file or directory to a local directory if applicable, and return a\u001b[39;00m\n\u001b[32m    117\u001b[39m \u001b[33;03m    local path for it.\u001b[39;00m\n\u001b[32m   (...)\u001b[39m\u001b[32m    129\u001b[39m \u001b[33;03m        Absolute path of the local filesystem location containing the desired artifacts.\u001b[39;00m\n\u001b[32m    130\u001b[39m \u001b[33;03m    \"\"\"\u001b[39;00m\n\u001b[32m--> \u001b[39m\u001b[32m131\u001b[39m     \u001b[38;5;28;01mreturn\u001b[39;00m \u001b[38;5;28;43mself\u001b[39;49m\u001b[43m.\u001b[49m\u001b[43mrepo\u001b[49m\u001b[43m.\u001b[49m\u001b[43mdownload_artifacts\u001b[49m\u001b[43m(\u001b[49m\u001b[43martifact_path\u001b[49m\u001b[43m,\u001b[49m\u001b[43m \u001b[49m\u001b[43mdst_path\u001b[49m\u001b[43m)\u001b[49m\n",
      "\u001b[36mFile \u001b[39m\u001b[32m~/.venvs/tf2.18/lib/python3.12/site-packages/mlflow/store/artifact/artifact_repo.py:298\u001b[39m, in \u001b[36mArtifactRepository.download_artifacts\u001b[39m\u001b[34m(self, artifact_path, dst_path)\u001b[39m\n\u001b[32m    296\u001b[39m tracebacks = {}\n\u001b[32m    297\u001b[39m \u001b[38;5;28;01mwith\u001b[39;00m ArtifactProgressBar.files(desc=\u001b[33m\"\u001b[39m\u001b[33mDownloading artifacts\u001b[39m\u001b[33m\"\u001b[39m, total=\u001b[38;5;28mlen\u001b[39m(futures)) \u001b[38;5;28;01mas\u001b[39;00m pbar:\n\u001b[32m--> \u001b[39m\u001b[32m298\u001b[39m \u001b[43m    \u001b[49m\u001b[38;5;28;43;01mfor\u001b[39;49;00m\u001b[43m \u001b[49m\u001b[43mf\u001b[49m\u001b[43m \u001b[49m\u001b[38;5;129;43;01min\u001b[39;49;00m\u001b[43m \u001b[49m\u001b[43mas_completed\u001b[49m\u001b[43m(\u001b[49m\u001b[43mfutures\u001b[49m\u001b[43m)\u001b[49m\u001b[43m:\u001b[49m\n\u001b[32m    299\u001b[39m \u001b[43m        \u001b[49m\u001b[38;5;28;43;01mtry\u001b[39;49;00m\u001b[43m:\u001b[49m\n\u001b[32m    300\u001b[39m \u001b[43m            \u001b[49m\u001b[43mf\u001b[49m\u001b[43m.\u001b[49m\u001b[43mresult\u001b[49m\u001b[43m(\u001b[49m\u001b[43m)\u001b[49m\n",
      "\u001b[36mFile \u001b[39m\u001b[32m/usr/lib/python3.12/concurrent/futures/_base.py:243\u001b[39m, in \u001b[36mas_completed\u001b[39m\u001b[34m(fs, timeout)\u001b[39m\n\u001b[32m    238\u001b[39m     \u001b[38;5;28;01mif\u001b[39;00m wait_timeout < \u001b[32m0\u001b[39m:\n\u001b[32m    239\u001b[39m         \u001b[38;5;28;01mraise\u001b[39;00m \u001b[38;5;167;01mTimeoutError\u001b[39;00m(\n\u001b[32m    240\u001b[39m                 \u001b[33m'\u001b[39m\u001b[38;5;132;01m%d\u001b[39;00m\u001b[33m (of \u001b[39m\u001b[38;5;132;01m%d\u001b[39;00m\u001b[33m) futures unfinished\u001b[39m\u001b[33m'\u001b[39m % (\n\u001b[32m    241\u001b[39m                 \u001b[38;5;28mlen\u001b[39m(pending), total_futures))\n\u001b[32m--> \u001b[39m\u001b[32m243\u001b[39m \u001b[43mwaiter\u001b[49m\u001b[43m.\u001b[49m\u001b[43mevent\u001b[49m\u001b[43m.\u001b[49m\u001b[43mwait\u001b[49m\u001b[43m(\u001b[49m\u001b[43mwait_timeout\u001b[49m\u001b[43m)\u001b[49m\n\u001b[32m    245\u001b[39m \u001b[38;5;28;01mwith\u001b[39;00m waiter.lock:\n\u001b[32m    246\u001b[39m     finished = waiter.finished_futures\n",
      "\u001b[36mFile \u001b[39m\u001b[32m/usr/lib/python3.12/threading.py:655\u001b[39m, in \u001b[36mEvent.wait\u001b[39m\u001b[34m(self, timeout)\u001b[39m\n\u001b[32m    653\u001b[39m signaled = \u001b[38;5;28mself\u001b[39m._flag\n\u001b[32m    654\u001b[39m \u001b[38;5;28;01mif\u001b[39;00m \u001b[38;5;129;01mnot\u001b[39;00m signaled:\n\u001b[32m--> \u001b[39m\u001b[32m655\u001b[39m     signaled = \u001b[38;5;28;43mself\u001b[39;49m\u001b[43m.\u001b[49m\u001b[43m_cond\u001b[49m\u001b[43m.\u001b[49m\u001b[43mwait\u001b[49m\u001b[43m(\u001b[49m\u001b[43mtimeout\u001b[49m\u001b[43m)\u001b[49m\n\u001b[32m    656\u001b[39m \u001b[38;5;28;01mreturn\u001b[39;00m signaled\n",
      "\u001b[36mFile \u001b[39m\u001b[32m/usr/lib/python3.12/threading.py:355\u001b[39m, in \u001b[36mCondition.wait\u001b[39m\u001b[34m(self, timeout)\u001b[39m\n\u001b[32m    353\u001b[39m \u001b[38;5;28;01mtry\u001b[39;00m:    \u001b[38;5;66;03m# restore state no matter what (e.g., KeyboardInterrupt)\u001b[39;00m\n\u001b[32m    354\u001b[39m     \u001b[38;5;28;01mif\u001b[39;00m timeout \u001b[38;5;129;01mis\u001b[39;00m \u001b[38;5;28;01mNone\u001b[39;00m:\n\u001b[32m--> \u001b[39m\u001b[32m355\u001b[39m         \u001b[43mwaiter\u001b[49m\u001b[43m.\u001b[49m\u001b[43macquire\u001b[49m\u001b[43m(\u001b[49m\u001b[43m)\u001b[49m\n\u001b[32m    356\u001b[39m         gotit = \u001b[38;5;28;01mTrue\u001b[39;00m\n\u001b[32m    357\u001b[39m     \u001b[38;5;28;01melse\u001b[39;00m:\n",
      "\u001b[31mKeyboardInterrupt\u001b[39m: "
     ]
    },
    {
     "name": "stderr",
     "output_type": "stream",
     "text": [
      "Unable to stream download: HTTPSConnectionPool(host='rsscmodelartifacts.blob.core.windows.net', port=443): Read timed out.\n"
     ]
    }
   ],
   "source": [
    "best_resnet50v2_uri =  f\"runs:/{os.getenv(\"MLFLOW_BEST_RESNET50V2_RUNID\")}/model\"\n",
    "best_convnexttiny_uri = f\"runs:/{os.getenv(\"MLFLOW_BEST_CONVNEXTTINY_RUNID\")}/model\"\n",
    "best_vit_uri = f\"runs:/{os.getenv(\"MLFLOW_BEST_VIT_RUNID\")}/model\"\n",
    "\n",
    "models = {\n",
    "    \"Best ResNet50v2\": mlflow.tensorflow.load_model(best_resnet50v2_uri), \n",
    "    \"Best ConvNeXt-Tiny\": mlflow.tensorflow.load_model(best_convnexttiny_uri), \n",
    "    \"Best ViT Patch16 In1k\": mlflow.tensorflow.load_model(best_vit_uri) \n",
    "}\n",
    "\n",
    "fe = ViTFeatureExtractor.from_pretrained(\"google/vit-base-patch16-224\")"
   ]
  },
  {
   "cell_type": "code",
   "execution_count": null,
   "id": "64eb6e2a",
   "metadata": {},
   "outputs": [],
   "source": [
    "def predict_img_vit(model, image_data_b64):\n",
    "    id2label = {\n",
    "        0: 'airplane', 1: 'cloud', 10: 'ship', 11: 'airport', 12: 'river', 13: 'golf_course', 14: 'roundabout', 15: 'church', 16: 'circular_farmland', 17: 'overpass', 18: 'railway', 19: 'wetland', 2: 'mountain', 20: 'lake', 21: 'parking_lot', 22: 'intersection', 23: 'tennis_court', 24: 'runway', 25: 'industrial_area', 26: 'chaparral', 27: 'bridge', 28: 'sparse_residential', 29: 'freeway', 3: 'medium_residential', 30: 'sea_ice', 31: 'beach', 32: 'palace', 33: 'snowberg', 34: 'meadow', 35: 'ground_track_field', 36: 'harbor', 37: 'rectangular_farmland', 38: 'island', 39: 'basketball_court', 4: 'thermal_power_station', 40: 'desert', 41: 'stadium', 42: 'forest',43: 'storage_tank', 44: 'railway_station', 5: 'terrace', 6: 'commercial_area', 7: 'dense_residential', 8: 'baseball_diamond', 9: 'mobile_home_park'\n",
    "    }\n",
    "    \n",
    "    decoded = base64.b64decode(image_data_b64)\n",
    "    image = Image.open(io.BytesIO(decoded)).convert(\"RGB\")    \n",
    "    inputs = fe(images=image, return_tensors=\"tf\")\n",
    "    outputs = model({\"pixel_values\": inputs[\"pixel_values\"]}, training=False)\n",
    "    logits = outputs[\"logits\"] if isinstance(outputs, dict) else outputs\n",
    "    \n",
    "\n",
    "    probs = tf.nn.softmax(logits, axis=-1).numpy()[0]\n",
    "    predicted_class_idx = int(tf.argmax(probs))\n",
    "    acc = float(probs[predicted_class_idx])\n",
    "\n",
    "    predicted_label = id2label[predicted_class_idx]\n",
    "    \n",
    "    return (\n",
    "        predicted_label, \n",
    "        acc * 100\n",
    "    )\n",
    "\n",
    "def predict_img_cnn(model, image_data_b64):\n",
    "    CLASSES = ['airplane', 'airport', 'baseball_diamond', 'basketball_court', 'beach', 'bridge', 'chaparral', 'church', 'circular_farmland', 'cloud', 'commercial_area', 'dense_residential', 'desert', 'forest', 'freeway', 'golf_course', 'ground_track_field', 'harbor', 'industrial_area', 'intersection', 'island', 'lake', 'meadow', 'medium_residential', 'mobile_home_park', 'mountain', 'overpass', 'palace', 'parking_lot', 'railway', 'railway_station', 'rectangular_farmland', 'river', 'roundabout', 'runway', 'sea_ice', 'ship', 'snowberg', 'sparse_residential', 'stadium', 'storage_tank', 'tennis_court', 'terrace', 'thermal_power_station', 'wetland']\n",
    "    \n",
    "    decoded = base64.b64decode(image_data_b64)\n",
    "    image = Image.open(io.BytesIO(decoded)).convert(\"RGB\")\n",
    "    image = image.resize((224, 224))  \n",
    "    img_array = tf.keras.preprocessing.image.img_to_array(image)\n",
    "    img_array = tf.expand_dims(img_array, 0)  # add batch dim\n",
    "    img_array = img_array / 255.0\n",
    "    \n",
    "    logits = model.predict(img_array)[0]\n",
    "    probs = tf.nn.softmax(logits, axis=-1).numpy()\n",
    "    idx = np.argmax(probs)\n",
    "    \n",
    "    return (\n",
    "        CLASSES[idx], \n",
    "        float(probs[idx]) * 100, \n",
    "    )"
   ]
  },
  {
   "cell_type": "code",
   "execution_count": null,
   "id": "b69aad92",
   "metadata": {},
   "outputs": [],
   "source": [
    "img_p = \"../../datasets/CLEAN_NWPU-RESISC45-SAMPLE500-SPLITTED8515/test/desert/desert_023.jpg\"\n",
    "\n",
    "with open(img_p, \"rb\") as img_f:\n",
    "    img_b64 = base64.b64encode(img_f.read())\n",
    "\n",
    "resnet_label, resnet_acc = predict_img_cnn(models[\"Best ResNet50v2\"], img_b64)\n",
    "convnext_label, convnext_acc = predict_img_cnn(models[\"Best ConvNeXt-Tiny\"], img_b64)\n",
    "vit_label, vit_acc = predict_img_vit(models[\"Best ViT Patch16 In1k\"], img_b64)\n",
    "\n",
    "print(f\"ResNet50v2: {resnet_label} ({resnet_acc:.2f}%)\")\n",
    "print(f\"ConvNeXt-Tiny: {convnext_label} ({convnext_acc:.2f}%)\")\n",
    "print(f\"ViT: {vit_label} ({vit_acc:.2f}%)\")"
   ]
  }
 ],
 "metadata": {
  "kernelspec": {
   "display_name": "Python 3 (ipykernel)",
   "language": "python",
   "name": "python3"
  },
  "language_info": {
   "codemirror_mode": {
    "name": "ipython",
    "version": 3
   },
   "file_extension": ".py",
   "mimetype": "text/x-python",
   "name": "python",
   "nbconvert_exporter": "python",
   "pygments_lexer": "ipython3",
   "version": "3.12.8"
  }
 },
 "nbformat": 4,
 "nbformat_minor": 5
}
