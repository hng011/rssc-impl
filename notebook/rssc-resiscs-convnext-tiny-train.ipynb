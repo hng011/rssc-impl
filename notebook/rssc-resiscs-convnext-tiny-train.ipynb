{
 "cells": [
  {
   "cell_type": "code",
   "execution_count": 1,
   "id": "da29c1f7",
   "metadata": {
    "_cell_guid": "b1076dfc-b9ad-4769-8c92-a6c4dae69d19",
    "_uuid": "8f2839f25d086af736a60e9eeb907d3b93b6e0e5",
    "execution": {
     "iopub.execute_input": "2025-06-02T07:14:07.330087Z",
     "iopub.status.busy": "2025-06-02T07:14:07.329775Z",
     "iopub.status.idle": "2025-06-02T07:14:07.464101Z",
     "shell.execute_reply": "2025-06-02T07:14:07.463153Z",
     "shell.execute_reply.started": "2025-06-02T07:14:07.330060Z"
    },
    "papermill": {
     "duration": 0.138131,
     "end_time": "2025-05-28T11:17:20.230001",
     "exception": false,
     "start_time": "2025-05-28T11:17:20.091870",
     "status": "completed"
    },
    "tags": [],
    "trusted": true
   },
   "outputs": [
    {
     "name": "stdout",
     "output_type": "stream",
     "text": [
      "train  val\n"
     ]
    }
   ],
   "source": [
    "!ls ./datasets/STRATIFIED_NWPU-RESISC45-500-TRAINVAL7015"
   ]
  },
  {
   "cell_type": "code",
   "execution_count": 2,
   "id": "f9e74a6f",
   "metadata": {
    "execution": {
     "iopub.execute_input": "2025-06-02T07:14:17.268169Z",
     "iopub.status.busy": "2025-06-02T07:14:17.267822Z",
     "iopub.status.idle": "2025-06-02T07:14:17.389960Z",
     "shell.execute_reply": "2025-06-02T07:14:17.388772Z",
     "shell.execute_reply.started": "2025-06-02T07:14:17.268138Z"
    },
    "papermill": {
     "duration": 0.131725,
     "end_time": "2025-05-28T11:17:20.366751",
     "exception": false,
     "start_time": "2025-05-28T11:17:20.235026",
     "status": "completed"
    },
    "tags": [],
    "trusted": true
   },
   "outputs": [
    {
     "name": "stdout",
     "output_type": "stream",
     "text": [
      "Tue Jun  3 21:45:07 2025       \n",
      "+-----------------------------------------------------------------------------------------+\n",
      "| NVIDIA-SMI 570.86.16              Driver Version: 572.16         CUDA Version: 12.8     |\n",
      "|-----------------------------------------+------------------------+----------------------+\n",
      "| GPU  Name                 Persistence-M | Bus-Id          Disp.A | Volatile Uncorr. ECC |\n",
      "| Fan  Temp   Perf          Pwr:Usage/Cap |           Memory-Usage | GPU-Util  Compute M. |\n",
      "|                                         |                        |               MIG M. |\n",
      "|=========================================+========================+======================|\n",
      "|   0  NVIDIA GeForce RTX 4060 ...    On  |   00000000:01:00.0 Off |                  N/A |\n",
      "| N/A   52C    P5              8W /   85W |     649MiB /   8188MiB |      0%      Default |\n",
      "|                                         |                        |                  N/A |\n",
      "+-----------------------------------------+------------------------+----------------------+\n",
      "                                                                                         \n",
      "+-----------------------------------------------------------------------------------------+\n",
      "| Processes:                                                                              |\n",
      "|  GPU   GI   CI              PID   Type   Process name                        GPU Memory |\n",
      "|        ID   ID                                                               Usage      |\n",
      "|=========================================================================================|\n",
      "|  No running processes found                                                             |\n",
      "+-----------------------------------------------------------------------------------------+\n"
     ]
    }
   ],
   "source": [
    "!nvidia-smi"
   ]
  },
  {
   "cell_type": "code",
   "execution_count": 3,
   "id": "f2af9d7a",
   "metadata": {
    "execution": {
     "iopub.execute_input": "2025-06-02T07:14:18.119250Z",
     "iopub.status.busy": "2025-06-02T07:14:18.118908Z",
     "iopub.status.idle": "2025-06-02T07:14:38.051902Z",
     "shell.execute_reply": "2025-06-02T07:14:38.050971Z",
     "shell.execute_reply.started": "2025-06-02T07:14:18.119207Z"
    },
    "papermill": {
     "duration": 22.333621,
     "end_time": "2025-05-28T11:17:42.705420",
     "exception": false,
     "start_time": "2025-05-28T11:17:20.371799",
     "status": "completed"
    },
    "tags": [],
    "trusted": true
   },
   "outputs": [
    {
     "name": "stderr",
     "output_type": "stream",
     "text": [
      "2025-06-03 21:45:08.379853: I tensorflow/core/util/port.cc:153] oneDNN custom operations are on. You may see slightly different numerical results due to floating-point round-off errors from different computation orders. To turn them off, set the environment variable `TF_ENABLE_ONEDNN_OPTS=0`.\n",
      "2025-06-03 21:45:08.563447: E external/local_xla/xla/stream_executor/cuda/cuda_fft.cc:477] Unable to register cuFFT factory: Attempting to register factory for plugin cuFFT when one has already been registered\n",
      "WARNING: All log messages before absl::InitializeLog() is called are written to STDERR\n",
      "E0000 00:00:1748961908.636767    1617 cuda_dnn.cc:8310] Unable to register cuDNN factory: Attempting to register factory for plugin cuDNN when one has already been registered\n",
      "E0000 00:00:1748961908.659357    1617 cuda_blas.cc:1418] Unable to register cuBLAS factory: Attempting to register factory for plugin cuBLAS when one has already been registered\n",
      "2025-06-03 21:45:08.822865: I tensorflow/core/platform/cpu_feature_guard.cc:210] This TensorFlow binary is optimized to use available CPU instructions in performance-critical operations.\n",
      "To enable the following instructions: AVX2 AVX_VNNI FMA, in other operations, rebuild TensorFlow with the appropriate compiler flags.\n",
      "/home/lo0py/.venvs/tf2.18/lib/python3.12/site-packages/tqdm/auto.py:21: TqdmWarning: IProgress not found. Please update jupyter and ipywidgets. See https://ipywidgets.readthedocs.io/en/stable/user_install.html\n",
      "  from .autonotebook import tqdm as notebook_tqdm\n"
     ]
    }
   ],
   "source": [
    "import tensorflow as tf\n",
    "\n",
    "import keras\n",
    "import keras_hub\n",
    "import joblib\n",
    "import os"
   ]
  },
  {
   "cell_type": "code",
   "execution_count": 4,
   "id": "95fbec10-76c9-4561-8e8c-c1472ced0202",
   "metadata": {
    "execution": {
     "iopub.execute_input": "2025-06-02T07:14:38.054114Z",
     "iopub.status.busy": "2025-06-02T07:14:38.053330Z",
     "iopub.status.idle": "2025-06-02T07:14:38.067016Z",
     "shell.execute_reply": "2025-06-02T07:14:38.066103Z",
     "shell.execute_reply.started": "2025-06-02T07:14:38.054080Z"
    },
    "trusted": true
   },
   "outputs": [
    {
     "name": "stderr",
     "output_type": "stream",
     "text": [
      "I0000 00:00:1748961913.700008    1617 gpu_device.cc:2022] Created device /job:localhost/replica:0/task:0/device:GPU:0 with 5563 MB memory:  -> device: 0, name: NVIDIA GeForce RTX 4060 Laptop GPU, pci bus id: 0000:01:00.0, compute capability: 8.9\n"
     ]
    },
    {
     "data": {
      "text/plain": [
       "[LogicalDevice(name='/device:CPU:0', device_type='CPU'),\n",
       " LogicalDevice(name='/device:GPU:0', device_type='GPU')]"
      ]
     },
     "execution_count": 4,
     "metadata": {},
     "output_type": "execute_result"
    }
   ],
   "source": [
    "tf.config.list_logical_devices()"
   ]
  },
  {
   "cell_type": "markdown",
   "id": "f2373a16",
   "metadata": {
    "papermill": {
     "duration": 0.004548,
     "end_time": "2025-05-28T11:17:42.715138",
     "exception": false,
     "start_time": "2025-05-28T11:17:42.710590",
     "status": "completed"
    },
    "tags": []
   },
   "source": [
    "# Data Preparation"
   ]
  },
  {
   "cell_type": "code",
   "execution_count": 5,
   "id": "499ab2b6",
   "metadata": {
    "execution": {
     "iopub.execute_input": "2025-06-02T07:14:38.068296Z",
     "iopub.status.busy": "2025-06-02T07:14:38.067939Z",
     "iopub.status.idle": "2025-06-02T07:14:38.131781Z",
     "shell.execute_reply": "2025-06-02T07:14:38.130780Z",
     "shell.execute_reply.started": "2025-06-02T07:14:38.068264Z"
    },
    "papermill": {
     "duration": 0.012511,
     "end_time": "2025-05-28T11:17:42.749772",
     "exception": false,
     "start_time": "2025-05-28T11:17:42.737261",
     "status": "completed"
    },
    "tags": [],
    "trusted": true
   },
   "outputs": [],
   "source": [
    "path_ds = \"./datasets/STRATIFIED_NWPU-RESISC45-500-TRAINVAL7015\""
   ]
  },
  {
   "cell_type": "code",
   "execution_count": 6,
   "id": "8a826602",
   "metadata": {
    "execution": {
     "iopub.execute_input": "2025-06-02T07:14:38.134612Z",
     "iopub.status.busy": "2025-06-02T07:14:38.134322Z",
     "iopub.status.idle": "2025-06-02T07:14:53.607554Z",
     "shell.execute_reply": "2025-06-02T07:14:53.606757Z",
     "shell.execute_reply.started": "2025-06-02T07:14:38.134592Z"
    },
    "papermill": {
     "duration": 0.340272,
     "end_time": "2025-05-28T11:17:43.094918",
     "exception": true,
     "start_time": "2025-05-28T11:17:42.754646",
     "status": "failed"
    },
    "tags": [],
    "trusted": true
   },
   "outputs": [
    {
     "name": "stdout",
     "output_type": "stream",
     "text": [
      "================== TRAIN DATA\n",
      "Found 15750 files belonging to 45 classes.\n",
      "Len data within each batch: 1575\n",
      "================== VAL DATA\n",
      "Found 3375 files belonging to 45 classes.\n",
      "Len data within each batch: 338\n"
     ]
    }
   ],
   "source": [
    "img_size = (224, 224)\n",
    "batch_size = 10\n",
    "\n",
    "# TRAIN DATA\n",
    "print(\"================== TRAIN DATA\")\n",
    "train_data = tf.keras.preprocessing.image_dataset_from_directory(\n",
    "    directory = f\"{path_ds}/train\",\n",
    "    shuffle = True,\n",
    "    image_size = img_size,\n",
    "    batch_size = batch_size\n",
    ")\n",
    "print(f\"Len data within each batch: {len(train_data)}\")\n",
    "\n",
    "\n",
    "# VAL DATA\n",
    "print(\"================== VAL DATA\")\n",
    "val_data = tf.keras.preprocessing.image_dataset_from_directory(\n",
    "    directory = f\"{path_ds}/val\",\n",
    "    shuffle = True,\n",
    "    image_size = img_size,\n",
    "    batch_size = batch_size\n",
    ")\n",
    "print(f\"Len data within each batch: {len(val_data)}\")"
   ]
  },
  {
   "cell_type": "code",
   "execution_count": 7,
   "id": "4013e724-3a77-42ee-9d21-2f7cc19f8ccc",
   "metadata": {
    "execution": {
     "iopub.execute_input": "2025-06-02T07:14:53.608711Z",
     "iopub.status.busy": "2025-06-02T07:14:53.608422Z",
     "iopub.status.idle": "2025-06-02T07:14:53.614388Z",
     "shell.execute_reply": "2025-06-02T07:14:53.613591Z",
     "shell.execute_reply.started": "2025-06-02T07:14:53.608690Z"
    },
    "trusted": true
   },
   "outputs": [
    {
     "data": {
      "text/plain": [
       "['airplane',\n",
       " 'airport',\n",
       " 'baseball_diamond',\n",
       " 'basketball_court',\n",
       " 'beach',\n",
       " 'bridge',\n",
       " 'chaparral',\n",
       " 'church',\n",
       " 'circular_farmland',\n",
       " 'cloud',\n",
       " 'commercial_area',\n",
       " 'dense_residential',\n",
       " 'desert',\n",
       " 'forest',\n",
       " 'freeway',\n",
       " 'golf_course',\n",
       " 'ground_track_field',\n",
       " 'harbor',\n",
       " 'industrial_area',\n",
       " 'intersection',\n",
       " 'island',\n",
       " 'lake',\n",
       " 'meadow',\n",
       " 'medium_residential',\n",
       " 'mobile_home_park',\n",
       " 'mountain',\n",
       " 'overpass',\n",
       " 'palace',\n",
       " 'parking_lot',\n",
       " 'railway',\n",
       " 'railway_station',\n",
       " 'rectangular_farmland',\n",
       " 'river',\n",
       " 'roundabout',\n",
       " 'runway',\n",
       " 'sea_ice',\n",
       " 'ship',\n",
       " 'snowberg',\n",
       " 'sparse_residential',\n",
       " 'stadium',\n",
       " 'storage_tank',\n",
       " 'tennis_court',\n",
       " 'terrace',\n",
       " 'thermal_power_station',\n",
       " 'wetland']"
      ]
     },
     "execution_count": 7,
     "metadata": {},
     "output_type": "execute_result"
    }
   ],
   "source": [
    "classes = train_data.class_names\n",
    "classes"
   ]
  },
  {
   "cell_type": "markdown",
   "id": "4435b02a",
   "metadata": {
    "papermill": {
     "duration": null,
     "end_time": null,
     "exception": null,
     "start_time": null,
     "status": "pending"
    },
    "tags": []
   },
   "source": [
    "## Layers for Data Scaling and Augmentation"
   ]
  },
  {
   "cell_type": "code",
   "execution_count": 8,
   "id": "f2ace55d",
   "metadata": {
    "execution": {
     "iopub.execute_input": "2025-06-02T07:14:53.616320Z",
     "iopub.status.busy": "2025-06-02T07:14:53.615469Z",
     "iopub.status.idle": "2025-06-02T07:14:53.899560Z",
     "shell.execute_reply": "2025-06-02T07:14:53.898691Z",
     "shell.execute_reply.started": "2025-06-02T07:14:53.616289Z"
    },
    "papermill": {
     "duration": null,
     "end_time": null,
     "exception": null,
     "start_time": null,
     "status": "pending"
    },
    "tags": [],
    "trusted": true
   },
   "outputs": [
    {
     "name": "stdout",
     "output_type": "stream",
     "text": [
      "Length of new data in each batch\n",
      "train data: 1575\n",
      "val data: 338\n",
      "train data with augmentation: 1575\n",
      "\n"
     ]
    }
   ],
   "source": [
    "augmentation_layers = tf.keras.Sequential([\n",
    "    tf.keras.layers.Rescaling(1./255),\n",
    "    tf.keras.layers.RandomZoom(height_factor=0.1, width_factor=0.1),\n",
    "    tf.keras.layers.RandomFlip(\"horizontal\"),\n",
    "])\n",
    "\n",
    "rescaling_layer = tf.keras.Sequential([\n",
    "    tf.keras.layers.Rescaling(1./255),\n",
    "])\n",
    "\n",
    "\n",
    "train_data_no_augmentation = train_data.map(lambda x, y: (rescaling_layer(x), y))\n",
    "val_data = val_data.map(lambda x, y: (rescaling_layer(x), y))\n",
    "train_data_with_augmentation = train_data.map(lambda x, y: (augmentation_layers(x), y))\n",
    "\n",
    "\n",
    "print(f\"\"\"Length of new data in each batch\n",
    "train data: {len(train_data_no_augmentation)}\n",
    "val data: {len(val_data)}\n",
    "train data with augmentation: {len(train_data_with_augmentation)}\n",
    "\"\"\")"
   ]
  },
  {
   "cell_type": "markdown",
   "id": "eef762c4",
   "metadata": {
    "papermill": {
     "duration": null,
     "end_time": null,
     "exception": null,
     "start_time": null,
     "status": "pending"
    },
    "tags": []
   },
   "source": [
    "## Apply Data Prefetch"
   ]
  },
  {
   "cell_type": "code",
   "execution_count": 9,
   "id": "001e2e69",
   "metadata": {
    "execution": {
     "iopub.execute_input": "2025-06-02T07:14:53.900871Z",
     "iopub.status.busy": "2025-06-02T07:14:53.900542Z",
     "iopub.status.idle": "2025-06-02T07:14:53.910168Z",
     "shell.execute_reply": "2025-06-02T07:14:53.909394Z",
     "shell.execute_reply.started": "2025-06-02T07:14:53.900842Z"
    },
    "papermill": {
     "duration": null,
     "end_time": null,
     "exception": null,
     "start_time": null,
     "status": "pending"
    },
    "tags": [],
    "trusted": true
   },
   "outputs": [],
   "source": [
    "AUTOTUNE = tf.data.AUTOTUNE\n",
    "train_data_no_augmentation = train_data_no_augmentation.prefetch(buffer_size=AUTOTUNE)\n",
    "val_data = val_data.prefetch(buffer_size=AUTOTUNE)\n",
    "train_data_with_augmentation = train_data_with_augmentation.prefetch(buffer_size=AUTOTUNE)"
   ]
  },
  {
   "cell_type": "markdown",
   "id": "600ca7ef",
   "metadata": {
    "papermill": {
     "duration": null,
     "end_time": null,
     "exception": null,
     "start_time": null,
     "status": "pending"
    },
    "tags": []
   },
   "source": [
    "# Modelling"
   ]
  },
  {
   "cell_type": "code",
   "execution_count": 10,
   "id": "726ed998",
   "metadata": {
    "execution": {
     "iopub.execute_input": "2025-06-02T07:14:53.911473Z",
     "iopub.status.busy": "2025-06-02T07:14:53.911145Z",
     "iopub.status.idle": "2025-06-02T07:14:53.923766Z",
     "shell.execute_reply": "2025-06-02T07:14:53.922953Z",
     "shell.execute_reply.started": "2025-06-02T07:14:53.911444Z"
    },
    "papermill": {
     "duration": null,
     "end_time": null,
     "exception": null,
     "start_time": null,
     "status": "pending"
    },
    "tags": [],
    "trusted": true
   },
   "outputs": [
    {
     "data": {
      "text/plain": [
       "((10, 224, 224, 3), (224, 224, 3))"
      ]
     },
     "execution_count": 10,
     "metadata": {},
     "output_type": "execute_result"
    }
   ],
   "source": [
    "img_shape = (batch_size, *img_size, 3)\n",
    "img_shape, img_shape[1:]"
   ]
  },
  {
   "cell_type": "markdown",
   "id": "32e221c5",
   "metadata": {
    "papermill": {
     "duration": null,
     "end_time": null,
     "exception": null,
     "start_time": null,
     "status": "pending"
    },
    "tags": []
   },
   "source": [
    "## Model Saving Callback (Epoch-based)"
   ]
  },
  {
   "cell_type": "code",
   "execution_count": 11,
   "id": "d414e8d9",
   "metadata": {
    "execution": {
     "iopub.execute_input": "2025-06-02T07:14:53.924898Z",
     "iopub.status.busy": "2025-06-02T07:14:53.924660Z",
     "iopub.status.idle": "2025-06-02T07:14:53.942542Z",
     "shell.execute_reply": "2025-06-02T07:14:53.941691Z",
     "shell.execute_reply.started": "2025-06-02T07:14:53.924880Z"
    },
    "papermill": {
     "duration": null,
     "end_time": null,
     "exception": null,
     "start_time": null,
     "status": "pending"
    },
    "tags": [],
    "trusted": true
   },
   "outputs": [],
   "source": [
    "class EpochModelCheckpoint(tf.keras.callbacks.ModelCheckpoint):\n",
    "    def __init__(self,\n",
    "                 filepath,\n",
    "                 frequency=1,\n",
    "                 monitor=\"val_accuracy\",\n",
    "                 verbose=1,\n",
    "                 save_best_only=False,\n",
    "                 save_weights_only=False,\n",
    "                 mode=\"max\",\n",
    "                 save_freq=\"epoch\",\n",
    "                 initial_value_threshold=None):\n",
    "\n",
    "        super(EpochModelCheckpoint, self).__init__(filepath,\n",
    "                                                   monitor,\n",
    "                                                   verbose,\n",
    "                                                   save_best_only,\n",
    "                                                   save_weights_only,\n",
    "                                                   mode,\n",
    "                                                   save_freq,\n",
    "                                                   initial_value_threshold)\n",
    "        self.epochs_since_last_save = 0\n",
    "        self.frequency = frequency\n",
    "\n",
    "    def on_epoch_end(self, epoch, logs=None):\n",
    "        self.epochs_since_last_save += 1\n",
    "        if self.epochs_since_last_save % self.frequency == 0:\n",
    "            self._save_model(epoch=epoch, batch=None, logs=logs)\n",
    "\n",
    "    def on_train_batch_end(self, batch, logs=None):\n",
    "        pass"
   ]
  },
  {
   "cell_type": "markdown",
   "id": "18cf82fa",
   "metadata": {
    "papermill": {
     "duration": null,
     "end_time": null,
     "exception": null,
     "start_time": null,
     "status": "pending"
    },
    "tags": []
   },
   "source": [
    "## Prepare Dir for Model's History"
   ]
  },
  {
   "cell_type": "code",
   "execution_count": 12,
   "id": "301cba7d",
   "metadata": {
    "execution": {
     "iopub.execute_input": "2025-06-02T07:14:53.944879Z",
     "iopub.status.busy": "2025-06-02T07:14:53.944503Z",
     "iopub.status.idle": "2025-06-02T07:14:53.958780Z",
     "shell.execute_reply": "2025-06-02T07:14:53.957837Z",
     "shell.execute_reply.started": "2025-06-02T07:14:53.944852Z"
    },
    "papermill": {
     "duration": null,
     "end_time": null,
     "exception": null,
     "start_time": null,
     "status": "pending"
    },
    "tags": [],
    "trusted": true
   },
   "outputs": [],
   "source": [
    "save_history_path = \"./outputs/histories\"\n",
    "os.makedirs(save_history_path, exist_ok=True)"
   ]
  },
  {
   "cell_type": "markdown",
   "id": "063db208",
   "metadata": {
    "papermill": {
     "duration": null,
     "end_time": null,
     "exception": null,
     "start_time": null,
     "status": "pending"
    },
    "tags": []
   },
   "source": [
    "## ConvNeXt-Tiny Function Definition"
   ]
  },
  {
   "cell_type": "code",
   "execution_count": null,
   "id": "b6001c29",
   "metadata": {
    "execution": {
     "iopub.execute_input": "2025-06-02T07:14:53.960098Z",
     "iopub.status.busy": "2025-06-02T07:14:53.959815Z",
     "iopub.status.idle": "2025-06-02T07:14:53.974460Z",
     "shell.execute_reply": "2025-06-02T07:14:53.973514Z",
     "shell.execute_reply.started": "2025-06-02T07:14:53.960071Z"
    },
    "papermill": {
     "duration": null,
     "end_time": null,
     "exception": null,
     "start_time": null,
     "status": "pending"
    },
    "tags": [],
    "trusted": true
   },
   "outputs": [],
   "source": [
    "def convnext_tiny(epoch_size: int, augment: bool=False, frequency=5):\n",
    "    model_name = f\"{'base' if augment == False else 'aug'}_convnext-tiny_{epoch_size}\"\n",
    "\n",
    "    model = tf.keras.applications.ConvNeXtTiny(\n",
    "        include_top=False,\n",
    "        include_preprocessing=False,\n",
    "        weights=\"imagenet\",\n",
    "        input_shape=img_shape[1:],\n",
    "        pooling=None,\n",
    "        name=\"convnext_tiny\",\n",
    "    )\n",
    "\n",
    "    model.trainable = True\n",
    "\n",
    "    inputs = tf.keras.layers.Input(shape=img_shape[1:])\n",
    "    x = model(inputs)\n",
    "    x = tf.keras.layers.GlobalAveragePooling2D()(x)\n",
    "    x = tf.keras.layers.Dense(128, activation=\"relu\")(x)\n",
    "    x = tf.keras.layers.Dense(256, activation=\"relu\")(x)\n",
    "    x = tf.keras.layers.Dense(512, activation=\"relu\")(x)\n",
    "    outputs = tf.keras.layers.Dense(len(classes))(x)\n",
    "\n",
    "    model = tf.keras.Model(inputs=inputs, outputs=outputs, name=model_name)\n",
    "\n",
    "    model.compile(\n",
    "        optimizer=tf.keras.optimizers.AdamW(learning_rate=1e-5, weight_decay=1e-2),\n",
    "        loss=tf.keras.losses.SparseCategoricalCrossentropy(from_logits=True),\n",
    "        metrics=[\"accuracy\"]\n",
    "    )\n",
    "\n",
    "    callback = EpochModelCheckpoint(filepath=f\"./outputs/{model_name}/{model_name}_epoch{{epoch:04d}}.keras\", frequency=frequency)\n",
    "    \n",
    "    model.summary()\n",
    "    print(f\"\\n##### Optimizer Func Information\\n{model.optimizer.get_config()}\")\n",
    "    print(f\"\\n##### Loss Func Information\\n{model.loss.get_config()}\")\n",
    "    \n",
    "    return model, callback"
   ]
  },
  {
   "cell_type": "markdown",
   "id": "0af87afa",
   "metadata": {
    "papermill": {
     "duration": null,
     "end_time": null,
     "exception": null,
     "start_time": null,
     "status": "pending"
    },
    "tags": []
   },
   "source": [
    "## 15 Epochs No Augmentation"
   ]
  },
  {
   "cell_type": "code",
   "execution_count": 14,
   "id": "a0ba1558",
   "metadata": {
    "execution": {
     "iopub.execute_input": "2025-06-02T07:14:53.975634Z",
     "iopub.status.busy": "2025-06-02T07:14:53.975374Z",
     "iopub.status.idle": "2025-06-02T07:14:56.183295Z",
     "shell.execute_reply": "2025-06-02T07:14:56.182340Z",
     "shell.execute_reply.started": "2025-06-02T07:14:53.975612Z"
    },
    "papermill": {
     "duration": null,
     "end_time": null,
     "exception": null,
     "start_time": null,
     "status": "pending"
    },
    "tags": [],
    "trusted": true
   },
   "outputs": [
    {
     "data": {
      "text/html": [
       "<pre style=\"white-space:pre;overflow-x:auto;line-height:normal;font-family:Menlo,'DejaVu Sans Mono',consolas,'Courier New',monospace\"><span style=\"font-weight: bold\">Model: \"base_convnext-tiny_15\"</span>\n",
       "</pre>\n"
      ],
      "text/plain": [
       "\u001b[1mModel: \"base_convnext-tiny_15\"\u001b[0m\n"
      ]
     },
     "metadata": {},
     "output_type": "display_data"
    },
    {
     "data": {
      "text/html": [
       "<pre style=\"white-space:pre;overflow-x:auto;line-height:normal;font-family:Menlo,'DejaVu Sans Mono',consolas,'Courier New',monospace\">┏━━━━━━━━━━━━━━━━━━━━━━━━━━━━━━━━━┳━━━━━━━━━━━━━━━━━━━━━━━━┳━━━━━━━━━━━━━━━┓\n",
       "┃<span style=\"font-weight: bold\"> Layer (type)                    </span>┃<span style=\"font-weight: bold\"> Output Shape           </span>┃<span style=\"font-weight: bold\">       Param # </span>┃\n",
       "┡━━━━━━━━━━━━━━━━━━━━━━━━━━━━━━━━━╇━━━━━━━━━━━━━━━━━━━━━━━━╇━━━━━━━━━━━━━━━┩\n",
       "│ input_layer_7 (<span style=\"color: #0087ff; text-decoration-color: #0087ff\">InputLayer</span>)      │ (<span style=\"color: #00d7ff; text-decoration-color: #00d7ff\">None</span>, <span style=\"color: #00af00; text-decoration-color: #00af00\">224</span>, <span style=\"color: #00af00; text-decoration-color: #00af00\">224</span>, <span style=\"color: #00af00; text-decoration-color: #00af00\">3</span>)    │             <span style=\"color: #00af00; text-decoration-color: #00af00\">0</span> │\n",
       "├─────────────────────────────────┼────────────────────────┼───────────────┤\n",
       "│ convnext_tiny (<span style=\"color: #0087ff; text-decoration-color: #0087ff\">Functional</span>)      │ (<span style=\"color: #00d7ff; text-decoration-color: #00d7ff\">None</span>, <span style=\"color: #00af00; text-decoration-color: #00af00\">7</span>, <span style=\"color: #00af00; text-decoration-color: #00af00\">7</span>, <span style=\"color: #00af00; text-decoration-color: #00af00\">768</span>)      │    <span style=\"color: #00af00; text-decoration-color: #00af00\">27,820,128</span> │\n",
       "├─────────────────────────────────┼────────────────────────┼───────────────┤\n",
       "│ global_average_pooling2d        │ (<span style=\"color: #00d7ff; text-decoration-color: #00d7ff\">None</span>, <span style=\"color: #00af00; text-decoration-color: #00af00\">768</span>)            │             <span style=\"color: #00af00; text-decoration-color: #00af00\">0</span> │\n",
       "│ (<span style=\"color: #0087ff; text-decoration-color: #0087ff\">GlobalAveragePooling2D</span>)        │                        │               │\n",
       "├─────────────────────────────────┼────────────────────────┼───────────────┤\n",
       "│ dense (<span style=\"color: #0087ff; text-decoration-color: #0087ff\">Dense</span>)                   │ (<span style=\"color: #00d7ff; text-decoration-color: #00d7ff\">None</span>, <span style=\"color: #00af00; text-decoration-color: #00af00\">128</span>)            │        <span style=\"color: #00af00; text-decoration-color: #00af00\">98,432</span> │\n",
       "├─────────────────────────────────┼────────────────────────┼───────────────┤\n",
       "│ dense_1 (<span style=\"color: #0087ff; text-decoration-color: #0087ff\">Dense</span>)                 │ (<span style=\"color: #00d7ff; text-decoration-color: #00d7ff\">None</span>, <span style=\"color: #00af00; text-decoration-color: #00af00\">256</span>)            │        <span style=\"color: #00af00; text-decoration-color: #00af00\">33,024</span> │\n",
       "├─────────────────────────────────┼────────────────────────┼───────────────┤\n",
       "│ dense_2 (<span style=\"color: #0087ff; text-decoration-color: #0087ff\">Dense</span>)                 │ (<span style=\"color: #00d7ff; text-decoration-color: #00d7ff\">None</span>, <span style=\"color: #00af00; text-decoration-color: #00af00\">512</span>)            │       <span style=\"color: #00af00; text-decoration-color: #00af00\">131,584</span> │\n",
       "├─────────────────────────────────┼────────────────────────┼───────────────┤\n",
       "│ dense_3 (<span style=\"color: #0087ff; text-decoration-color: #0087ff\">Dense</span>)                 │ (<span style=\"color: #00d7ff; text-decoration-color: #00d7ff\">None</span>, <span style=\"color: #00af00; text-decoration-color: #00af00\">45</span>)             │        <span style=\"color: #00af00; text-decoration-color: #00af00\">23,085</span> │\n",
       "└─────────────────────────────────┴────────────────────────┴───────────────┘\n",
       "</pre>\n"
      ],
      "text/plain": [
       "┏━━━━━━━━━━━━━━━━━━━━━━━━━━━━━━━━━┳━━━━━━━━━━━━━━━━━━━━━━━━┳━━━━━━━━━━━━━━━┓\n",
       "┃\u001b[1m \u001b[0m\u001b[1mLayer (type)                   \u001b[0m\u001b[1m \u001b[0m┃\u001b[1m \u001b[0m\u001b[1mOutput Shape          \u001b[0m\u001b[1m \u001b[0m┃\u001b[1m \u001b[0m\u001b[1m      Param #\u001b[0m\u001b[1m \u001b[0m┃\n",
       "┡━━━━━━━━━━━━━━━━━━━━━━━━━━━━━━━━━╇━━━━━━━━━━━━━━━━━━━━━━━━╇━━━━━━━━━━━━━━━┩\n",
       "│ input_layer_7 (\u001b[38;5;33mInputLayer\u001b[0m)      │ (\u001b[38;5;45mNone\u001b[0m, \u001b[38;5;34m224\u001b[0m, \u001b[38;5;34m224\u001b[0m, \u001b[38;5;34m3\u001b[0m)    │             \u001b[38;5;34m0\u001b[0m │\n",
       "├─────────────────────────────────┼────────────────────────┼───────────────┤\n",
       "│ convnext_tiny (\u001b[38;5;33mFunctional\u001b[0m)      │ (\u001b[38;5;45mNone\u001b[0m, \u001b[38;5;34m7\u001b[0m, \u001b[38;5;34m7\u001b[0m, \u001b[38;5;34m768\u001b[0m)      │    \u001b[38;5;34m27,820,128\u001b[0m │\n",
       "├─────────────────────────────────┼────────────────────────┼───────────────┤\n",
       "│ global_average_pooling2d        │ (\u001b[38;5;45mNone\u001b[0m, \u001b[38;5;34m768\u001b[0m)            │             \u001b[38;5;34m0\u001b[0m │\n",
       "│ (\u001b[38;5;33mGlobalAveragePooling2D\u001b[0m)        │                        │               │\n",
       "├─────────────────────────────────┼────────────────────────┼───────────────┤\n",
       "│ dense (\u001b[38;5;33mDense\u001b[0m)                   │ (\u001b[38;5;45mNone\u001b[0m, \u001b[38;5;34m128\u001b[0m)            │        \u001b[38;5;34m98,432\u001b[0m │\n",
       "├─────────────────────────────────┼────────────────────────┼───────────────┤\n",
       "│ dense_1 (\u001b[38;5;33mDense\u001b[0m)                 │ (\u001b[38;5;45mNone\u001b[0m, \u001b[38;5;34m256\u001b[0m)            │        \u001b[38;5;34m33,024\u001b[0m │\n",
       "├─────────────────────────────────┼────────────────────────┼───────────────┤\n",
       "│ dense_2 (\u001b[38;5;33mDense\u001b[0m)                 │ (\u001b[38;5;45mNone\u001b[0m, \u001b[38;5;34m512\u001b[0m)            │       \u001b[38;5;34m131,584\u001b[0m │\n",
       "├─────────────────────────────────┼────────────────────────┼───────────────┤\n",
       "│ dense_3 (\u001b[38;5;33mDense\u001b[0m)                 │ (\u001b[38;5;45mNone\u001b[0m, \u001b[38;5;34m45\u001b[0m)             │        \u001b[38;5;34m23,085\u001b[0m │\n",
       "└─────────────────────────────────┴────────────────────────┴───────────────┘\n"
      ]
     },
     "metadata": {},
     "output_type": "display_data"
    },
    {
     "data": {
      "text/html": [
       "<pre style=\"white-space:pre;overflow-x:auto;line-height:normal;font-family:Menlo,'DejaVu Sans Mono',consolas,'Courier New',monospace\"><span style=\"font-weight: bold\"> Total params: </span><span style=\"color: #00af00; text-decoration-color: #00af00\">28,106,253</span> (107.22 MB)\n",
       "</pre>\n"
      ],
      "text/plain": [
       "\u001b[1m Total params: \u001b[0m\u001b[38;5;34m28,106,253\u001b[0m (107.22 MB)\n"
      ]
     },
     "metadata": {},
     "output_type": "display_data"
    },
    {
     "data": {
      "text/html": [
       "<pre style=\"white-space:pre;overflow-x:auto;line-height:normal;font-family:Menlo,'DejaVu Sans Mono',consolas,'Courier New',monospace\"><span style=\"font-weight: bold\"> Trainable params: </span><span style=\"color: #00af00; text-decoration-color: #00af00\">28,106,253</span> (107.22 MB)\n",
       "</pre>\n"
      ],
      "text/plain": [
       "\u001b[1m Trainable params: \u001b[0m\u001b[38;5;34m28,106,253\u001b[0m (107.22 MB)\n"
      ]
     },
     "metadata": {},
     "output_type": "display_data"
    },
    {
     "data": {
      "text/html": [
       "<pre style=\"white-space:pre;overflow-x:auto;line-height:normal;font-family:Menlo,'DejaVu Sans Mono',consolas,'Courier New',monospace\"><span style=\"font-weight: bold\"> Non-trainable params: </span><span style=\"color: #00af00; text-decoration-color: #00af00\">0</span> (0.00 B)\n",
       "</pre>\n"
      ],
      "text/plain": [
       "\u001b[1m Non-trainable params: \u001b[0m\u001b[38;5;34m0\u001b[0m (0.00 B)\n"
      ]
     },
     "metadata": {},
     "output_type": "display_data"
    },
    {
     "name": "stdout",
     "output_type": "stream",
     "text": [
      "\n",
      "##### Optimizer Func Information\n",
      "{'name': 'adamw', 'learning_rate': 9.999999747378752e-06, 'weight_decay': 0.01, 'clipnorm': None, 'global_clipnorm': None, 'clipvalue': None, 'use_ema': False, 'ema_momentum': 0.99, 'ema_overwrite_frequency': None, 'loss_scale_factor': None, 'gradient_accumulation_steps': None, 'beta_1': 0.9, 'beta_2': 0.999, 'epsilon': 1e-07, 'amsgrad': False}\n",
      "\n",
      "##### Loss Func Information\n",
      "{'name': 'sparse_categorical_crossentropy', 'reduction': 'sum_over_batch_size', 'from_logits': True, 'ignore_class': None}\n"
     ]
    }
   ],
   "source": [
    "epoch_size = 15\n",
    "base_convnexttiny_15, base_convnexttiny_15_ckpt_callback = convnext_tiny(epoch_size=epoch_size, augment=False)"
   ]
  },
  {
   "cell_type": "code",
   "execution_count": 15,
   "id": "c0b4e0ab",
   "metadata": {
    "execution": {
     "iopub.execute_input": "2025-05-26T13:42:25.228993Z",
     "iopub.status.busy": "2025-05-26T13:42:25.228735Z",
     "iopub.status.idle": "2025-05-26T14:18:51.424573Z",
     "shell.execute_reply": "2025-05-26T14:18:51.423944Z",
     "shell.execute_reply.started": "2025-05-26T13:42:25.228970Z"
    },
    "papermill": {
     "duration": null,
     "end_time": null,
     "exception": null,
     "start_time": null,
     "status": "pending"
    },
    "tags": []
   },
   "outputs": [
    {
     "name": "stdout",
     "output_type": "stream",
     "text": [
      "Epoch 1/15\n"
     ]
    },
    {
     "name": "stderr",
     "output_type": "stream",
     "text": [
      "WARNING: All log messages before absl::InitializeLog() is called are written to STDERR\n",
      "I0000 00:00:1748848993.514688   13458 service.cc:148] XLA service 0x778a1c018760 initialized for platform CUDA (this does not guarantee that XLA will be used). Devices:\n",
      "I0000 00:00:1748848993.516314   13458 service.cc:156]   StreamExecutor device (0): NVIDIA GeForce RTX 4060 Laptop GPU, Compute Capability 8.9\n",
      "2025-06-02 14:23:14.236808: I tensorflow/compiler/mlir/tensorflow/utils/dump_mlir_util.cc:268] disabling MLIR crash reproducer, set env var `MLIR_CRASH_REPRODUCER_DIRECTORY` to enable.\n",
      "I0000 00:00:1748848996.453786   13458 cuda_dnn.cc:529] Loaded cuDNN version 90300\n",
      "2025-06-02 14:23:19.805430: I external/local_xla/xla/stream_executor/cuda/cuda_asm_compiler.cc:397] ptxas warning : Registers are spilled to local memory in function 'gemm_fusion_dot', 76 bytes spill stores, 76 bytes spill loads\n",
      "\n",
      "2025-06-02 14:23:19.912833: I external/local_xla/xla/stream_executor/cuda/cuda_asm_compiler.cc:397] ptxas warning : Registers are spilled to local memory in function 'gemm_fusion_dot', 116 bytes spill stores, 116 bytes spill loads\n",
      "\n",
      "2025-06-02 14:23:19.919216: I external/local_xla/xla/stream_executor/cuda/cuda_asm_compiler.cc:397] ptxas warning : Registers are spilled to local memory in function 'gemm_fusion_dot_6', 280 bytes spill stores, 260 bytes spill loads\n",
      "\n",
      "2025-06-02 14:23:19.949616: I external/local_xla/xla/stream_executor/cuda/cuda_asm_compiler.cc:397] ptxas warning : Registers are spilled to local memory in function 'gemm_fusion_dot', 692 bytes spill stores, 692 bytes spill loads\n",
      "\n",
      "2025-06-02 14:23:20.081649: I external/local_xla/xla/stream_executor/cuda/cuda_asm_compiler.cc:397] ptxas warning : Registers are spilled to local memory in function 'gemm_fusion_dot_42', 108 bytes spill stores, 108 bytes spill loads\n",
      "\n",
      "2025-06-02 14:23:20.215568: I external/local_xla/xla/stream_executor/cuda/cuda_asm_compiler.cc:397] ptxas warning : Registers are spilled to local memory in function 'gemm_fusion_dot_6', 40 bytes spill stores, 40 bytes spill loads\n",
      "\n",
      "2025-06-02 14:23:20.602390: I external/local_xla/xla/stream_executor/cuda/cuda_asm_compiler.cc:397] ptxas warning : Registers are spilled to local memory in function 'gemm_fusion_dot_12', 84 bytes spill stores, 84 bytes spill loads\n",
      "\n",
      "2025-06-02 14:23:21.140575: I external/local_xla/xla/stream_executor/cuda/cuda_asm_compiler.cc:397] ptxas warning : Registers are spilled to local memory in function 'gemm_fusion_dot_36', 280 bytes spill stores, 284 bytes spill loads\n",
      "\n",
      "2025-06-02 14:23:21.223413: I external/local_xla/xla/stream_executor/cuda/cuda_asm_compiler.cc:397] ptxas warning : Registers are spilled to local memory in function 'gemm_fusion_dot', 56 bytes spill stores, 56 bytes spill loads\n",
      "\n",
      "2025-06-02 14:23:21.302437: I external/local_xla/xla/stream_executor/cuda/cuda_asm_compiler.cc:397] ptxas warning : Registers are spilled to local memory in function 'gemm_fusion_dot_12', 40 bytes spill stores, 40 bytes spill loads\n",
      "\n",
      "2025-06-02 14:23:21.312639: I external/local_xla/xla/stream_executor/cuda/cuda_asm_compiler.cc:397] ptxas warning : Registers are spilled to local memory in function 'gemm_fusion_dot_30', 16 bytes spill stores, 16 bytes spill loads\n",
      "\n",
      "2025-06-02 14:23:21.526686: I external/local_xla/xla/stream_executor/cuda/cuda_asm_compiler.cc:397] ptxas warning : Registers are spilled to local memory in function 'gemm_fusion_dot_12', 280 bytes spill stores, 260 bytes spill loads\n",
      "\n",
      "2025-06-02 14:23:21.710388: I external/local_xla/xla/stream_executor/cuda/cuda_asm_compiler.cc:397] ptxas warning : Registers are spilled to local memory in function 'gemm_fusion_dot_60', 640 bytes spill stores, 608 bytes spill loads\n",
      "\n",
      "2025-06-02 14:23:22.449455: I external/local_xla/xla/stream_executor/cuda/cuda_asm_compiler.cc:397] ptxas warning : Registers are spilled to local memory in function 'gemm_fusion_dot_13529', 628 bytes spill stores, 628 bytes spill loads\n",
      "\n",
      "2025-06-02 14:23:22.576782: I external/local_xla/xla/stream_executor/cuda/cuda_asm_compiler.cc:397] ptxas warning : Registers are spilled to local memory in function 'gemm_fusion_dot_30', 284 bytes spill stores, 284 bytes spill loads\n",
      "\n",
      "2025-06-02 14:23:22.791104: I external/local_xla/xla/stream_executor/cuda/cuda_asm_compiler.cc:397] ptxas warning : Registers are spilled to local memory in function 'gemm_fusion_dot_36', 164 bytes spill stores, 164 bytes spill loads\n",
      "\n",
      "2025-06-02 14:23:22.865700: I external/local_xla/xla/stream_executor/cuda/cuda_asm_compiler.cc:397] ptxas warning : Registers are spilled to local memory in function 'gemm_fusion_dot_36', 120 bytes spill stores, 120 bytes spill loads\n",
      "\n",
      "2025-06-02 14:23:22.956581: I external/local_xla/xla/stream_executor/cuda/cuda_asm_compiler.cc:397] ptxas warning : Registers are spilled to local memory in function 'gemm_fusion_dot_13485', 64 bytes spill stores, 64 bytes spill loads\n",
      "\n",
      "2025-06-02 14:23:23.024984: I external/local_xla/xla/stream_executor/cuda/cuda_asm_compiler.cc:397] ptxas warning : Registers are spilled to local memory in function 'gemm_fusion_dot_42', 640 bytes spill stores, 608 bytes spill loads\n",
      "\n",
      "2025-06-02 14:23:23.460469: I external/local_xla/xla/stream_executor/cuda/cuda_asm_compiler.cc:397] ptxas warning : Registers are spilled to local memory in function 'gemm_fusion_dot_36', 316 bytes spill stores, 316 bytes spill loads\n",
      "\n",
      "2025-06-02 14:23:23.757139: I external/local_xla/xla/stream_executor/cuda/cuda_asm_compiler.cc:397] ptxas warning : Registers are spilled to local memory in function 'gemm_fusion_dot_30', 36 bytes spill stores, 36 bytes spill loads\n",
      "\n",
      "2025-06-02 14:23:23.776702: I external/local_xla/xla/stream_executor/cuda/cuda_asm_compiler.cc:397] ptxas warning : Registers are spilled to local memory in function 'gemm_fusion_dot_42', 192 bytes spill stores, 248 bytes spill loads\n",
      "\n",
      "2025-06-02 14:23:24.601829: I external/local_xla/xla/stream_executor/cuda/cuda_asm_compiler.cc:397] ptxas warning : Registers are spilled to local memory in function 'gemm_fusion_dot_66', 48 bytes spill stores, 48 bytes spill loads\n",
      "\n",
      "2025-06-02 14:23:24.904273: I external/local_xla/xla/stream_executor/cuda/cuda_asm_compiler.cc:397] ptxas warning : Registers are spilled to local memory in function 'gemm_fusion_dot_9470', 8 bytes spill stores, 8 bytes spill loads\n",
      "\n",
      "2025-06-02 14:23:24.948804: I external/local_xla/xla/stream_executor/cuda/cuda_asm_compiler.cc:397] ptxas warning : Registers are spilled to local memory in function 'gemm_fusion_dot_66', 796 bytes spill stores, 764 bytes spill loads\n",
      "\n",
      "2025-06-02 14:23:25.120207: I external/local_xla/xla/stream_executor/cuda/cuda_asm_compiler.cc:397] ptxas warning : Registers are spilled to local memory in function 'gemm_fusion_dot_36', 156 bytes spill stores, 156 bytes spill loads\n",
      "\n",
      "I0000 00:00:1748849019.214552   13458 device_compiler.h:188] Compiled cluster using XLA!  This line is logged at most once for the lifetime of the process.\n"
     ]
    },
    {
     "name": "stdout",
     "output_type": "stream",
     "text": [
      "\u001b[1m1575/1575\u001b[0m \u001b[32m━━━━━━━━━━━━━━━━━━━━\u001b[0m\u001b[37m\u001b[0m \u001b[1m0s\u001b[0m 162ms/step - accuracy: 0.1669 - loss: 3.3868"
     ]
    },
    {
     "name": "stderr",
     "output_type": "stream",
     "text": [
      "2025-06-02 14:28:09.181748: I external/local_xla/xla/stream_executor/cuda/cuda_asm_compiler.cc:397] ptxas warning : Registers are spilled to local memory in function 'gemm_fusion_dot_1937', 8 bytes spill stores, 8 bytes spill loads\n",
      "\n"
     ]
    },
    {
     "name": "stdout",
     "output_type": "stream",
     "text": [
      "\u001b[1m1575/1575\u001b[0m \u001b[32m━━━━━━━━━━━━━━━━━━━━\u001b[0m\u001b[37m\u001b[0m \u001b[1m321s\u001b[0m 173ms/step - accuracy: 0.1670 - loss: 3.3864 - val_accuracy: 0.6385 - val_loss: 1.4835\n",
      "Epoch 2/15\n",
      "\u001b[1m1575/1575\u001b[0m \u001b[32m━━━━━━━━━━━━━━━━━━━━\u001b[0m\u001b[37m\u001b[0m \u001b[1m260s\u001b[0m 165ms/step - accuracy: 0.7195 - loss: 1.1823 - val_accuracy: 0.8130 - val_loss: 0.7203\n",
      "Epoch 3/15\n",
      "\u001b[1m1575/1575\u001b[0m \u001b[32m━━━━━━━━━━━━━━━━━━━━\u001b[0m\u001b[37m\u001b[0m \u001b[1m263s\u001b[0m 167ms/step - accuracy: 0.8458 - loss: 0.5813 - val_accuracy: 0.8628 - val_loss: 0.4954\n",
      "Epoch 4/15\n",
      "\u001b[1m1575/1575\u001b[0m \u001b[32m━━━━━━━━━━━━━━━━━━━━\u001b[0m\u001b[37m\u001b[0m \u001b[1m259s\u001b[0m 164ms/step - accuracy: 0.9050 - loss: 0.3530 - val_accuracy: 0.8874 - val_loss: 0.3885\n",
      "Epoch 5/15\n",
      "\u001b[1m1575/1575\u001b[0m \u001b[32m━━━━━━━━━━━━━━━━━━━━\u001b[0m\u001b[37m\u001b[0m \u001b[1m0s\u001b[0m 162ms/step - accuracy: 0.9401 - loss: 0.2304\n",
      "Epoch 5: saving model to ./outputs/base_convnext-tiny_15/base_convnext-tiny_15_epoch0005.keras\n",
      "\u001b[1m1575/1575\u001b[0m \u001b[32m━━━━━━━━━━━━━━━━━━━━\u001b[0m\u001b[37m\u001b[0m \u001b[1m266s\u001b[0m 169ms/step - accuracy: 0.9401 - loss: 0.2304 - val_accuracy: 0.8942 - val_loss: 0.3529\n",
      "Epoch 6/15\n",
      "\u001b[1m1575/1575\u001b[0m \u001b[32m━━━━━━━━━━━━━━━━━━━━\u001b[0m\u001b[37m\u001b[0m \u001b[1m260s\u001b[0m 165ms/step - accuracy: 0.9622 - loss: 0.1491 - val_accuracy: 0.9034 - val_loss: 0.3146\n",
      "Epoch 7/15\n",
      "\u001b[1m1575/1575\u001b[0m \u001b[32m━━━━━━━━━━━━━━━━━━━━\u001b[0m\u001b[37m\u001b[0m \u001b[1m261s\u001b[0m 165ms/step - accuracy: 0.9803 - loss: 0.0921 - val_accuracy: 0.9028 - val_loss: 0.3098\n",
      "Epoch 8/15\n",
      "\u001b[1m1575/1575\u001b[0m \u001b[32m━━━━━━━━━━━━━━━━━━━━\u001b[0m\u001b[37m\u001b[0m \u001b[1m263s\u001b[0m 167ms/step - accuracy: 0.9923 - loss: 0.0502 - val_accuracy: 0.9073 - val_loss: 0.3213\n",
      "Epoch 9/15\n",
      "\u001b[1m1575/1575\u001b[0m \u001b[32m━━━━━━━━━━━━━━━━━━━━\u001b[0m\u001b[37m\u001b[0m \u001b[1m262s\u001b[0m 167ms/step - accuracy: 0.9973 - loss: 0.0269 - val_accuracy: 0.9099 - val_loss: 0.3105\n",
      "Epoch 10/15\n",
      "\u001b[1m1575/1575\u001b[0m \u001b[32m━━━━━━━━━━━━━━━━━━━━\u001b[0m\u001b[37m\u001b[0m \u001b[1m0s\u001b[0m 160ms/step - accuracy: 0.9979 - loss: 0.0178\n",
      "Epoch 10: saving model to ./outputs/base_convnext-tiny_15/base_convnext-tiny_15_epoch0010.keras\n",
      "\u001b[1m1575/1575\u001b[0m \u001b[32m━━━━━━━━━━━━━━━━━━━━\u001b[0m\u001b[37m\u001b[0m \u001b[1m260s\u001b[0m 165ms/step - accuracy: 0.9979 - loss: 0.0178 - val_accuracy: 0.9132 - val_loss: 0.3038\n",
      "Epoch 11/15\n",
      "\u001b[1m1575/1575\u001b[0m \u001b[32m━━━━━━━━━━━━━━━━━━━━\u001b[0m\u001b[37m\u001b[0m \u001b[1m263s\u001b[0m 167ms/step - accuracy: 0.9989 - loss: 0.0105 - val_accuracy: 0.9182 - val_loss: 0.3135\n",
      "Epoch 12/15\n",
      "\u001b[1m1575/1575\u001b[0m \u001b[32m━━━━━━━━━━━━━━━━━━━━\u001b[0m\u001b[37m\u001b[0m \u001b[1m263s\u001b[0m 167ms/step - accuracy: 0.9977 - loss: 0.0154 - val_accuracy: 0.9271 - val_loss: 0.2942\n",
      "Epoch 13/15\n",
      "\u001b[1m1575/1575\u001b[0m \u001b[32m━━━━━━━━━━━━━━━━━━━━\u001b[0m\u001b[37m\u001b[0m \u001b[1m259s\u001b[0m 165ms/step - accuracy: 0.9977 - loss: 0.0113 - val_accuracy: 0.9236 - val_loss: 0.3038\n",
      "Epoch 14/15\n",
      "\u001b[1m1575/1575\u001b[0m \u001b[32m━━━━━━━━━━━━━━━━━━━━\u001b[0m\u001b[37m\u001b[0m \u001b[1m260s\u001b[0m 163ms/step - accuracy: 1.0000 - loss: 0.0017 - val_accuracy: 0.9200 - val_loss: 0.3313\n",
      "Epoch 15/15\n",
      "\u001b[1m1575/1575\u001b[0m \u001b[32m━━━━━━━━━━━━━━━━━━━━\u001b[0m\u001b[37m\u001b[0m \u001b[1m0s\u001b[0m 155ms/step - accuracy: 0.9946 - loss: 0.0191\n",
      "Epoch 15: saving model to ./outputs/base_convnext-tiny_15/base_convnext-tiny_15_epoch0015.keras\n",
      "\u001b[1m1575/1575\u001b[0m \u001b[32m━━━━━━━━━━━━━━━━━━━━\u001b[0m\u001b[37m\u001b[0m \u001b[1m253s\u001b[0m 161ms/step - accuracy: 0.9946 - loss: 0.0191 - val_accuracy: 0.9233 - val_loss: 0.3143\n",
      "CPU times: user 21min 23s, sys: 4min 27s, total: 25min 50s\n",
      "Wall time: 1h 6min 13s\n"
     ]
    }
   ],
   "source": [
    "%%time\n",
    "\n",
    "history_base_convnexttiny_15 = base_convnexttiny_15.fit(\n",
    "    train_data_no_augmentation,\n",
    "    validation_data=val_data,\n",
    "    epochs=epoch_size,\n",
    "    callbacks=[base_convnexttiny_15_ckpt_callback]\n",
    ")"
   ]
  },
  {
   "cell_type": "code",
   "execution_count": 16,
   "id": "67165204",
   "metadata": {
    "execution": {
     "iopub.execute_input": "2025-05-26T14:18:51.425749Z",
     "iopub.status.busy": "2025-05-26T14:18:51.425532Z",
     "iopub.status.idle": "2025-05-26T14:18:51.431734Z",
     "shell.execute_reply": "2025-05-26T14:18:51.431138Z",
     "shell.execute_reply.started": "2025-05-26T14:18:51.425733Z"
    },
    "papermill": {
     "duration": null,
     "end_time": null,
     "exception": null,
     "start_time": null,
     "status": "pending"
    },
    "tags": []
   },
   "outputs": [
    {
     "data": {
      "text/plain": [
       "['./outputs/histories/history_base_convnext-tiny_15.joblib']"
      ]
     },
     "execution_count": 16,
     "metadata": {},
     "output_type": "execute_result"
    }
   ],
   "source": [
    "joblib.dump(history_base_convnexttiny_15.history, os.path.join(save_history_path, \"history_base_convnext-tiny_15.joblib\"))"
   ]
  },
  {
   "cell_type": "markdown",
   "id": "61700d80",
   "metadata": {
    "papermill": {
     "duration": null,
     "end_time": null,
     "exception": null,
     "start_time": null,
     "status": "pending"
    },
    "tags": []
   },
   "source": [
    "## 15 Epochs with Augmentation"
   ]
  },
  {
   "cell_type": "code",
   "execution_count": 14,
   "id": "f6640497",
   "metadata": {
    "execution": {
     "iopub.execute_input": "2025-05-26T14:18:51.433120Z",
     "iopub.status.busy": "2025-05-26T14:18:51.432542Z",
     "iopub.status.idle": "2025-05-26T14:18:52.442919Z",
     "shell.execute_reply": "2025-05-26T14:18:52.442234Z",
     "shell.execute_reply.started": "2025-05-26T14:18:51.433103Z"
    },
    "papermill": {
     "duration": null,
     "end_time": null,
     "exception": null,
     "start_time": null,
     "status": "pending"
    },
    "tags": []
   },
   "outputs": [
    {
     "data": {
      "text/html": [
       "<pre style=\"white-space:pre;overflow-x:auto;line-height:normal;font-family:Menlo,'DejaVu Sans Mono',consolas,'Courier New',monospace\"><span style=\"font-weight: bold\">Model: \"aug_convnext-tiny_15\"</span>\n",
       "</pre>\n"
      ],
      "text/plain": [
       "\u001b[1mModel: \"aug_convnext-tiny_15\"\u001b[0m\n"
      ]
     },
     "metadata": {},
     "output_type": "display_data"
    },
    {
     "data": {
      "text/html": [
       "<pre style=\"white-space:pre;overflow-x:auto;line-height:normal;font-family:Menlo,'DejaVu Sans Mono',consolas,'Courier New',monospace\">┏━━━━━━━━━━━━━━━━━━━━━━━━━━━━━━━━━┳━━━━━━━━━━━━━━━━━━━━━━━━┳━━━━━━━━━━━━━━━┓\n",
       "┃<span style=\"font-weight: bold\"> Layer (type)                    </span>┃<span style=\"font-weight: bold\"> Output Shape           </span>┃<span style=\"font-weight: bold\">       Param # </span>┃\n",
       "┡━━━━━━━━━━━━━━━━━━━━━━━━━━━━━━━━━╇━━━━━━━━━━━━━━━━━━━━━━━━╇━━━━━━━━━━━━━━━┩\n",
       "│ input_layer_7 (<span style=\"color: #0087ff; text-decoration-color: #0087ff\">InputLayer</span>)      │ (<span style=\"color: #00d7ff; text-decoration-color: #00d7ff\">None</span>, <span style=\"color: #00af00; text-decoration-color: #00af00\">224</span>, <span style=\"color: #00af00; text-decoration-color: #00af00\">224</span>, <span style=\"color: #00af00; text-decoration-color: #00af00\">3</span>)    │             <span style=\"color: #00af00; text-decoration-color: #00af00\">0</span> │\n",
       "├─────────────────────────────────┼────────────────────────┼───────────────┤\n",
       "│ convnext_tiny (<span style=\"color: #0087ff; text-decoration-color: #0087ff\">Functional</span>)      │ (<span style=\"color: #00d7ff; text-decoration-color: #00d7ff\">None</span>, <span style=\"color: #00af00; text-decoration-color: #00af00\">7</span>, <span style=\"color: #00af00; text-decoration-color: #00af00\">7</span>, <span style=\"color: #00af00; text-decoration-color: #00af00\">768</span>)      │    <span style=\"color: #00af00; text-decoration-color: #00af00\">27,820,128</span> │\n",
       "├─────────────────────────────────┼────────────────────────┼───────────────┤\n",
       "│ global_average_pooling2d        │ (<span style=\"color: #00d7ff; text-decoration-color: #00d7ff\">None</span>, <span style=\"color: #00af00; text-decoration-color: #00af00\">768</span>)            │             <span style=\"color: #00af00; text-decoration-color: #00af00\">0</span> │\n",
       "│ (<span style=\"color: #0087ff; text-decoration-color: #0087ff\">GlobalAveragePooling2D</span>)        │                        │               │\n",
       "├─────────────────────────────────┼────────────────────────┼───────────────┤\n",
       "│ dense (<span style=\"color: #0087ff; text-decoration-color: #0087ff\">Dense</span>)                   │ (<span style=\"color: #00d7ff; text-decoration-color: #00d7ff\">None</span>, <span style=\"color: #00af00; text-decoration-color: #00af00\">128</span>)            │        <span style=\"color: #00af00; text-decoration-color: #00af00\">98,432</span> │\n",
       "├─────────────────────────────────┼────────────────────────┼───────────────┤\n",
       "│ dense_1 (<span style=\"color: #0087ff; text-decoration-color: #0087ff\">Dense</span>)                 │ (<span style=\"color: #00d7ff; text-decoration-color: #00d7ff\">None</span>, <span style=\"color: #00af00; text-decoration-color: #00af00\">256</span>)            │        <span style=\"color: #00af00; text-decoration-color: #00af00\">33,024</span> │\n",
       "├─────────────────────────────────┼────────────────────────┼───────────────┤\n",
       "│ dense_2 (<span style=\"color: #0087ff; text-decoration-color: #0087ff\">Dense</span>)                 │ (<span style=\"color: #00d7ff; text-decoration-color: #00d7ff\">None</span>, <span style=\"color: #00af00; text-decoration-color: #00af00\">512</span>)            │       <span style=\"color: #00af00; text-decoration-color: #00af00\">131,584</span> │\n",
       "├─────────────────────────────────┼────────────────────────┼───────────────┤\n",
       "│ dense_3 (<span style=\"color: #0087ff; text-decoration-color: #0087ff\">Dense</span>)                 │ (<span style=\"color: #00d7ff; text-decoration-color: #00d7ff\">None</span>, <span style=\"color: #00af00; text-decoration-color: #00af00\">45</span>)             │        <span style=\"color: #00af00; text-decoration-color: #00af00\">23,085</span> │\n",
       "└─────────────────────────────────┴────────────────────────┴───────────────┘\n",
       "</pre>\n"
      ],
      "text/plain": [
       "┏━━━━━━━━━━━━━━━━━━━━━━━━━━━━━━━━━┳━━━━━━━━━━━━━━━━━━━━━━━━┳━━━━━━━━━━━━━━━┓\n",
       "┃\u001b[1m \u001b[0m\u001b[1mLayer (type)                   \u001b[0m\u001b[1m \u001b[0m┃\u001b[1m \u001b[0m\u001b[1mOutput Shape          \u001b[0m\u001b[1m \u001b[0m┃\u001b[1m \u001b[0m\u001b[1m      Param #\u001b[0m\u001b[1m \u001b[0m┃\n",
       "┡━━━━━━━━━━━━━━━━━━━━━━━━━━━━━━━━━╇━━━━━━━━━━━━━━━━━━━━━━━━╇━━━━━━━━━━━━━━━┩\n",
       "│ input_layer_7 (\u001b[38;5;33mInputLayer\u001b[0m)      │ (\u001b[38;5;45mNone\u001b[0m, \u001b[38;5;34m224\u001b[0m, \u001b[38;5;34m224\u001b[0m, \u001b[38;5;34m3\u001b[0m)    │             \u001b[38;5;34m0\u001b[0m │\n",
       "├─────────────────────────────────┼────────────────────────┼───────────────┤\n",
       "│ convnext_tiny (\u001b[38;5;33mFunctional\u001b[0m)      │ (\u001b[38;5;45mNone\u001b[0m, \u001b[38;5;34m7\u001b[0m, \u001b[38;5;34m7\u001b[0m, \u001b[38;5;34m768\u001b[0m)      │    \u001b[38;5;34m27,820,128\u001b[0m │\n",
       "├─────────────────────────────────┼────────────────────────┼───────────────┤\n",
       "│ global_average_pooling2d        │ (\u001b[38;5;45mNone\u001b[0m, \u001b[38;5;34m768\u001b[0m)            │             \u001b[38;5;34m0\u001b[0m │\n",
       "│ (\u001b[38;5;33mGlobalAveragePooling2D\u001b[0m)        │                        │               │\n",
       "├─────────────────────────────────┼────────────────────────┼───────────────┤\n",
       "│ dense (\u001b[38;5;33mDense\u001b[0m)                   │ (\u001b[38;5;45mNone\u001b[0m, \u001b[38;5;34m128\u001b[0m)            │        \u001b[38;5;34m98,432\u001b[0m │\n",
       "├─────────────────────────────────┼────────────────────────┼───────────────┤\n",
       "│ dense_1 (\u001b[38;5;33mDense\u001b[0m)                 │ (\u001b[38;5;45mNone\u001b[0m, \u001b[38;5;34m256\u001b[0m)            │        \u001b[38;5;34m33,024\u001b[0m │\n",
       "├─────────────────────────────────┼────────────────────────┼───────────────┤\n",
       "│ dense_2 (\u001b[38;5;33mDense\u001b[0m)                 │ (\u001b[38;5;45mNone\u001b[0m, \u001b[38;5;34m512\u001b[0m)            │       \u001b[38;5;34m131,584\u001b[0m │\n",
       "├─────────────────────────────────┼────────────────────────┼───────────────┤\n",
       "│ dense_3 (\u001b[38;5;33mDense\u001b[0m)                 │ (\u001b[38;5;45mNone\u001b[0m, \u001b[38;5;34m45\u001b[0m)             │        \u001b[38;5;34m23,085\u001b[0m │\n",
       "└─────────────────────────────────┴────────────────────────┴───────────────┘\n"
      ]
     },
     "metadata": {},
     "output_type": "display_data"
    },
    {
     "data": {
      "text/html": [
       "<pre style=\"white-space:pre;overflow-x:auto;line-height:normal;font-family:Menlo,'DejaVu Sans Mono',consolas,'Courier New',monospace\"><span style=\"font-weight: bold\"> Total params: </span><span style=\"color: #00af00; text-decoration-color: #00af00\">28,106,253</span> (107.22 MB)\n",
       "</pre>\n"
      ],
      "text/plain": [
       "\u001b[1m Total params: \u001b[0m\u001b[38;5;34m28,106,253\u001b[0m (107.22 MB)\n"
      ]
     },
     "metadata": {},
     "output_type": "display_data"
    },
    {
     "data": {
      "text/html": [
       "<pre style=\"white-space:pre;overflow-x:auto;line-height:normal;font-family:Menlo,'DejaVu Sans Mono',consolas,'Courier New',monospace\"><span style=\"font-weight: bold\"> Trainable params: </span><span style=\"color: #00af00; text-decoration-color: #00af00\">28,106,253</span> (107.22 MB)\n",
       "</pre>\n"
      ],
      "text/plain": [
       "\u001b[1m Trainable params: \u001b[0m\u001b[38;5;34m28,106,253\u001b[0m (107.22 MB)\n"
      ]
     },
     "metadata": {},
     "output_type": "display_data"
    },
    {
     "data": {
      "text/html": [
       "<pre style=\"white-space:pre;overflow-x:auto;line-height:normal;font-family:Menlo,'DejaVu Sans Mono',consolas,'Courier New',monospace\"><span style=\"font-weight: bold\"> Non-trainable params: </span><span style=\"color: #00af00; text-decoration-color: #00af00\">0</span> (0.00 B)\n",
       "</pre>\n"
      ],
      "text/plain": [
       "\u001b[1m Non-trainable params: \u001b[0m\u001b[38;5;34m0\u001b[0m (0.00 B)\n"
      ]
     },
     "metadata": {},
     "output_type": "display_data"
    },
    {
     "name": "stdout",
     "output_type": "stream",
     "text": [
      "\n",
      "##### Optimizer Func Information\n",
      "{'name': 'adamw', 'learning_rate': 9.999999747378752e-06, 'weight_decay': 0.01, 'clipnorm': None, 'global_clipnorm': None, 'clipvalue': None, 'use_ema': False, 'ema_momentum': 0.99, 'ema_overwrite_frequency': None, 'loss_scale_factor': None, 'gradient_accumulation_steps': None, 'beta_1': 0.9, 'beta_2': 0.999, 'epsilon': 1e-07, 'amsgrad': False}\n",
      "\n",
      "##### Loss Func Information\n",
      "{'name': 'sparse_categorical_crossentropy', 'reduction': 'sum_over_batch_size', 'from_logits': True, 'ignore_class': None}\n"
     ]
    }
   ],
   "source": [
    "epoch_size = 15\n",
    "aug_convnexttiny_15, aug_convnexttiny_15_ckpt_callback = convnext_tiny(epoch_size=epoch_size, augment=True)"
   ]
  },
  {
   "cell_type": "code",
   "execution_count": 15,
   "id": "5237a922",
   "metadata": {
    "execution": {
     "iopub.execute_input": "2025-05-26T14:18:52.443862Z",
     "iopub.status.busy": "2025-05-26T14:18:52.443669Z",
     "iopub.status.idle": "2025-05-26T15:25:20.238058Z",
     "shell.execute_reply": "2025-05-26T15:25:20.237492Z",
     "shell.execute_reply.started": "2025-05-26T14:18:52.443848Z"
    },
    "papermill": {
     "duration": null,
     "end_time": null,
     "exception": null,
     "start_time": null,
     "status": "pending"
    },
    "tags": []
   },
   "outputs": [
    {
     "name": "stdout",
     "output_type": "stream",
     "text": [
      "Epoch 1/15\n"
     ]
    },
    {
     "name": "stderr",
     "output_type": "stream",
     "text": [
      "WARNING: All log messages before absl::InitializeLog() is called are written to STDERR\n",
      "I0000 00:00:1748853775.697488   22943 service.cc:148] XLA service 0x73b358013c20 initialized for platform CUDA (this does not guarantee that XLA will be used). Devices:\n",
      "I0000 00:00:1748853775.699114   22943 service.cc:156]   StreamExecutor device (0): NVIDIA GeForce RTX 4060 Laptop GPU, Compute Capability 8.9\n",
      "2025-06-02 15:42:56.255467: I tensorflow/compiler/mlir/tensorflow/utils/dump_mlir_util.cc:268] disabling MLIR crash reproducer, set env var `MLIR_CRASH_REPRODUCER_DIRECTORY` to enable.\n",
      "I0000 00:00:1748853778.363266   22943 cuda_dnn.cc:529] Loaded cuDNN version 90300\n",
      "2025-06-02 15:43:00.528881: I external/local_xla/xla/stream_executor/cuda/cuda_asm_compiler.cc:397] ptxas warning : Registers are spilled to local memory in function 'gemm_fusion_dot', 116 bytes spill stores, 116 bytes spill loads\n",
      "\n",
      "2025-06-02 15:43:00.635644: I external/local_xla/xla/stream_executor/cuda/cuda_asm_compiler.cc:397] ptxas warning : Registers are spilled to local memory in function 'gemm_fusion_dot', 76 bytes spill stores, 76 bytes spill loads\n",
      "\n",
      "2025-06-02 15:43:00.686351: I external/local_xla/xla/stream_executor/cuda/cuda_asm_compiler.cc:397] ptxas warning : Registers are spilled to local memory in function 'gemm_fusion_dot', 56 bytes spill stores, 56 bytes spill loads\n",
      "\n",
      "2025-06-02 15:43:00.863585: I external/local_xla/xla/stream_executor/cuda/cuda_asm_compiler.cc:397] ptxas warning : Registers are spilled to local memory in function 'gemm_fusion_dot_6', 40 bytes spill stores, 40 bytes spill loads\n",
      "\n",
      "2025-06-02 15:43:00.991451: I external/local_xla/xla/stream_executor/cuda/cuda_asm_compiler.cc:397] ptxas warning : Registers are spilled to local memory in function 'gemm_fusion_dot_6', 280 bytes spill stores, 260 bytes spill loads\n",
      "\n",
      "2025-06-02 15:43:01.111182: I external/local_xla/xla/stream_executor/cuda/cuda_asm_compiler.cc:397] ptxas warning : Registers are spilled to local memory in function 'gemm_fusion_dot', 692 bytes spill stores, 692 bytes spill loads\n",
      "\n",
      "2025-06-02 15:43:01.422692: I external/local_xla/xla/stream_executor/cuda/cuda_asm_compiler.cc:397] ptxas warning : Registers are spilled to local memory in function 'gemm_fusion_dot_30', 284 bytes spill stores, 284 bytes spill loads\n",
      "\n",
      "2025-06-02 15:43:02.198110: I external/local_xla/xla/stream_executor/cuda/cuda_asm_compiler.cc:397] ptxas warning : Registers are spilled to local memory in function 'gemm_fusion_dot_12', 280 bytes spill stores, 260 bytes spill loads\n",
      "\n",
      "2025-06-02 15:43:02.404455: I external/local_xla/xla/stream_executor/cuda/cuda_asm_compiler.cc:397] ptxas warning : Registers are spilled to local memory in function 'gemm_fusion_dot_36', 280 bytes spill stores, 284 bytes spill loads\n",
      "\n",
      "2025-06-02 15:43:02.793822: I external/local_xla/xla/stream_executor/cuda/cuda_asm_compiler.cc:397] ptxas warning : Registers are spilled to local memory in function 'gemm_fusion_dot_12', 40 bytes spill stores, 40 bytes spill loads\n",
      "\n",
      "2025-06-02 15:43:02.845323: I external/local_xla/xla/stream_executor/cuda/cuda_asm_compiler.cc:397] ptxas warning : Registers are spilled to local memory in function 'gemm_fusion_dot_12', 84 bytes spill stores, 84 bytes spill loads\n",
      "\n",
      "2025-06-02 15:43:03.153999: I external/local_xla/xla/stream_executor/cuda/cuda_asm_compiler.cc:397] ptxas warning : Registers are spilled to local memory in function 'gemm_fusion_dot_30', 36 bytes spill stores, 36 bytes spill loads\n",
      "\n",
      "2025-06-02 15:43:03.185164: I external/local_xla/xla/stream_executor/cuda/cuda_asm_compiler.cc:397] ptxas warning : Registers are spilled to local memory in function 'gemm_fusion_dot_30', 16 bytes spill stores, 16 bytes spill loads\n",
      "\n",
      "2025-06-02 15:43:03.206153: I external/local_xla/xla/stream_executor/cuda/cuda_asm_compiler.cc:397] ptxas warning : Registers are spilled to local memory in function 'gemm_fusion_dot_9470', 8 bytes spill stores, 8 bytes spill loads\n",
      "\n",
      "2025-06-02 15:43:03.450643: I external/local_xla/xla/stream_executor/cuda/cuda_asm_compiler.cc:397] ptxas warning : Registers are spilled to local memory in function 'gemm_fusion_dot_42', 108 bytes spill stores, 108 bytes spill loads\n",
      "\n",
      "2025-06-02 15:43:03.797393: I external/local_xla/xla/stream_executor/cuda/cuda_asm_compiler.cc:397] ptxas warning : Registers are spilled to local memory in function 'gemm_fusion_dot_36', 120 bytes spill stores, 120 bytes spill loads\n",
      "\n",
      "2025-06-02 15:43:04.075626: I external/local_xla/xla/stream_executor/cuda/cuda_asm_compiler.cc:397] ptxas warning : Registers are spilled to local memory in function 'gemm_fusion_dot_13485', 64 bytes spill stores, 64 bytes spill loads\n",
      "\n",
      "2025-06-02 15:43:04.203953: I external/local_xla/xla/stream_executor/cuda/cuda_asm_compiler.cc:397] ptxas warning : Registers are spilled to local memory in function 'gemm_fusion_dot_36', 164 bytes spill stores, 164 bytes spill loads\n",
      "\n",
      "2025-06-02 15:43:04.743425: I external/local_xla/xla/stream_executor/cuda/cuda_asm_compiler.cc:397] ptxas warning : Registers are spilled to local memory in function 'gemm_fusion_dot_13529', 628 bytes spill stores, 628 bytes spill loads\n",
      "\n",
      "2025-06-02 15:43:04.784640: I external/local_xla/xla/stream_executor/cuda/cuda_asm_compiler.cc:397] ptxas warning : Registers are spilled to local memory in function 'gemm_fusion_dot_66', 48 bytes spill stores, 48 bytes spill loads\n",
      "\n",
      "2025-06-02 15:43:05.316658: I external/local_xla/xla/stream_executor/cuda/cuda_asm_compiler.cc:397] ptxas warning : Registers are spilled to local memory in function 'gemm_fusion_dot_42', 192 bytes spill stores, 248 bytes spill loads\n",
      "\n",
      "2025-06-02 15:43:05.769440: I external/local_xla/xla/stream_executor/cuda/cuda_asm_compiler.cc:397] ptxas warning : Registers are spilled to local memory in function 'gemm_fusion_dot_60', 640 bytes spill stores, 608 bytes spill loads\n",
      "\n",
      "2025-06-02 15:43:05.771955: I external/local_xla/xla/stream_executor/cuda/cuda_asm_compiler.cc:397] ptxas warning : Registers are spilled to local memory in function 'gemm_fusion_dot_36', 156 bytes spill stores, 156 bytes spill loads\n",
      "\n",
      "2025-06-02 15:43:06.125754: I external/local_xla/xla/stream_executor/cuda/cuda_asm_compiler.cc:397] ptxas warning : Registers are spilled to local memory in function 'gemm_fusion_dot_36', 316 bytes spill stores, 316 bytes spill loads\n",
      "\n",
      "2025-06-02 15:43:06.243030: I external/local_xla/xla/stream_executor/cuda/cuda_asm_compiler.cc:397] ptxas warning : Registers are spilled to local memory in function 'gemm_fusion_dot_42', 640 bytes spill stores, 608 bytes spill loads\n",
      "\n",
      "2025-06-02 15:43:06.319251: I external/local_xla/xla/stream_executor/cuda/cuda_asm_compiler.cc:397] ptxas warning : Registers are spilled to local memory in function 'gemm_fusion_dot_66', 796 bytes spill stores, 764 bytes spill loads\n",
      "\n",
      "I0000 00:00:1748853798.460495   22943 device_compiler.h:188] Compiled cluster using XLA!  This line is logged at most once for the lifetime of the process.\n"
     ]
    },
    {
     "name": "stdout",
     "output_type": "stream",
     "text": [
      "\u001b[1m1575/1575\u001b[0m \u001b[32m━━━━━━━━━━━━━━━━━━━━\u001b[0m\u001b[37m\u001b[0m \u001b[1m0s\u001b[0m 165ms/step - accuracy: 0.1564 - loss: 3.4628"
     ]
    },
    {
     "name": "stderr",
     "output_type": "stream",
     "text": [
      "2025-06-02 15:47:49.009095: I external/local_xla/xla/stream_executor/cuda/cuda_asm_compiler.cc:397] ptxas warning : Registers are spilled to local memory in function 'gemm_fusion_dot_1937', 8 bytes spill stores, 8 bytes spill loads\n",
      "\n"
     ]
    },
    {
     "name": "stdout",
     "output_type": "stream",
     "text": [
      "\u001b[1m1575/1575\u001b[0m \u001b[32m━━━━━━━━━━━━━━━━━━━━\u001b[0m\u001b[37m\u001b[0m \u001b[1m324s\u001b[0m 178ms/step - accuracy: 0.1565 - loss: 3.4624 - val_accuracy: 0.6412 - val_loss: 1.4794\n",
      "Epoch 2/15\n",
      "\u001b[1m1575/1575\u001b[0m \u001b[32m━━━━━━━━━━━━━━━━━━━━\u001b[0m\u001b[37m\u001b[0m \u001b[1m264s\u001b[0m 167ms/step - accuracy: 0.7124 - loss: 1.1934 - val_accuracy: 0.8018 - val_loss: 0.7173\n",
      "Epoch 3/15\n",
      "\u001b[1m1575/1575\u001b[0m \u001b[32m━━━━━━━━━━━━━━━━━━━━\u001b[0m\u001b[37m\u001b[0m \u001b[1m265s\u001b[0m 168ms/step - accuracy: 0.8357 - loss: 0.6151 - val_accuracy: 0.8604 - val_loss: 0.4949\n",
      "Epoch 4/15\n",
      "\u001b[1m1575/1575\u001b[0m \u001b[32m━━━━━━━━━━━━━━━━━━━━\u001b[0m\u001b[37m\u001b[0m \u001b[1m263s\u001b[0m 167ms/step - accuracy: 0.8817 - loss: 0.4079 - val_accuracy: 0.8827 - val_loss: 0.3831\n",
      "Epoch 5/15\n",
      "\u001b[1m1575/1575\u001b[0m \u001b[32m━━━━━━━━━━━━━━━━━━━━\u001b[0m\u001b[37m\u001b[0m \u001b[1m0s\u001b[0m 164ms/step - accuracy: 0.9171 - loss: 0.2890\n",
      "Epoch 5: saving model to ./outputs/aug_convnext-tiny_15/aug_convnext-tiny_15_epoch0005.keras\n",
      "\u001b[1m1575/1575\u001b[0m \u001b[32m━━━━━━━━━━━━━━━━━━━━\u001b[0m\u001b[37m\u001b[0m \u001b[1m267s\u001b[0m 169ms/step - accuracy: 0.9172 - loss: 0.2890 - val_accuracy: 0.8981 - val_loss: 0.3356\n",
      "Epoch 6/15\n",
      "\u001b[1m1575/1575\u001b[0m \u001b[32m━━━━━━━━━━━━━━━━━━━━\u001b[0m\u001b[37m\u001b[0m \u001b[1m264s\u001b[0m 167ms/step - accuracy: 0.9413 - loss: 0.2137 - val_accuracy: 0.9087 - val_loss: 0.2941\n",
      "Epoch 7/15\n",
      "\u001b[1m1575/1575\u001b[0m \u001b[32m━━━━━━━━━━━━━━━━━━━━\u001b[0m\u001b[37m\u001b[0m \u001b[1m265s\u001b[0m 168ms/step - accuracy: 0.9552 - loss: 0.1608 - val_accuracy: 0.9132 - val_loss: 0.2803\n",
      "Epoch 8/15\n",
      "\u001b[1m1575/1575\u001b[0m \u001b[32m━━━━━━━━━━━━━━━━━━━━\u001b[0m\u001b[37m\u001b[0m \u001b[1m262s\u001b[0m 167ms/step - accuracy: 0.9667 - loss: 0.1222 - val_accuracy: 0.9206 - val_loss: 0.2569\n",
      "Epoch 9/15\n",
      "\u001b[1m1575/1575\u001b[0m \u001b[32m━━━━━━━━━━━━━━━━━━━━\u001b[0m\u001b[37m\u001b[0m \u001b[1m264s\u001b[0m 168ms/step - accuracy: 0.9745 - loss: 0.0911 - val_accuracy: 0.9105 - val_loss: 0.2865\n",
      "Epoch 10/15\n",
      "\u001b[1m1575/1575\u001b[0m \u001b[32m━━━━━━━━━━━━━━━━━━━━\u001b[0m\u001b[37m\u001b[0m \u001b[1m0s\u001b[0m 160ms/step - accuracy: 0.9871 - loss: 0.0609\n",
      "Epoch 10: saving model to ./outputs/aug_convnext-tiny_15/aug_convnext-tiny_15_epoch0010.keras\n",
      "\u001b[1m1575/1575\u001b[0m \u001b[32m━━━━━━━━━━━━━━━━━━━━\u001b[0m\u001b[37m\u001b[0m \u001b[1m259s\u001b[0m 165ms/step - accuracy: 0.9871 - loss: 0.0609 - val_accuracy: 0.9227 - val_loss: 0.2516\n",
      "Epoch 11/15\n",
      "\u001b[1m1575/1575\u001b[0m \u001b[32m━━━━━━━━━━━━━━━━━━━━\u001b[0m\u001b[37m\u001b[0m \u001b[1m259s\u001b[0m 164ms/step - accuracy: 0.9894 - loss: 0.0471 - val_accuracy: 0.9138 - val_loss: 0.2763\n",
      "Epoch 12/15\n",
      "\u001b[1m1575/1575\u001b[0m \u001b[32m━━━━━━━━━━━━━━━━━━━━\u001b[0m\u001b[37m\u001b[0m \u001b[1m399s\u001b[0m 253ms/step - accuracy: 0.9913 - loss: 0.0375 - val_accuracy: 0.9173 - val_loss: 0.2780\n",
      "Epoch 13/15\n",
      "\u001b[1m1575/1575\u001b[0m \u001b[32m━━━━━━━━━━━━━━━━━━━━\u001b[0m\u001b[37m\u001b[0m \u001b[1m512s\u001b[0m 325ms/step - accuracy: 0.9940 - loss: 0.0277 - val_accuracy: 0.9277 - val_loss: 0.2444\n",
      "Epoch 14/15\n",
      "\u001b[1m1575/1575\u001b[0m \u001b[32m━━━━━━━━━━━━━━━━━━━━\u001b[0m\u001b[37m\u001b[0m \u001b[1m395s\u001b[0m 243ms/step - accuracy: 0.9940 - loss: 0.0255 - val_accuracy: 0.9319 - val_loss: 0.2392\n",
      "Epoch 15/15\n",
      "\u001b[1m1575/1575\u001b[0m \u001b[32m━━━━━━━━━━━━━━━━━━━━\u001b[0m\u001b[37m\u001b[0m \u001b[1m0s\u001b[0m 161ms/step - accuracy: 0.9977 - loss: 0.0149\n",
      "Epoch 15: saving model to ./outputs/aug_convnext-tiny_15/aug_convnext-tiny_15_epoch0015.keras\n",
      "\u001b[1m1575/1575\u001b[0m \u001b[32m━━━━━━━━━━━━━━━━━━━━\u001b[0m\u001b[37m\u001b[0m \u001b[1m266s\u001b[0m 169ms/step - accuracy: 0.9977 - loss: 0.0149 - val_accuracy: 0.9161 - val_loss: 0.2826\n",
      "CPU times: user 37min 4s, sys: 9min 22s, total: 46min 26s\n",
      "Wall time: 1h 15min 28s\n"
     ]
    }
   ],
   "source": [
    "%%time\n",
    "\n",
    "history_aug_convnexttiny_15 = aug_convnexttiny_15.fit(\n",
    "    train_data_with_augmentation,\n",
    "    validation_data=val_data,\n",
    "    epochs=epoch_size,\n",
    "    callbacks=[aug_convnexttiny_15_ckpt_callback] \n",
    ")"
   ]
  },
  {
   "cell_type": "code",
   "execution_count": 16,
   "id": "b7ade464",
   "metadata": {
    "execution": {
     "iopub.execute_input": "2025-05-26T15:25:20.240319Z",
     "iopub.status.busy": "2025-05-26T15:25:20.240078Z",
     "iopub.status.idle": "2025-05-26T15:25:20.245927Z",
     "shell.execute_reply": "2025-05-26T15:25:20.245347Z",
     "shell.execute_reply.started": "2025-05-26T15:25:20.240301Z"
    },
    "papermill": {
     "duration": null,
     "end_time": null,
     "exception": null,
     "start_time": null,
     "status": "pending"
    },
    "tags": []
   },
   "outputs": [
    {
     "data": {
      "text/plain": [
       "['./outputs/histories/history_aug_convnext-tiny_15.joblib']"
      ]
     },
     "execution_count": 16,
     "metadata": {},
     "output_type": "execute_result"
    }
   ],
   "source": [
    "joblib.dump(history_aug_convnexttiny_15.history, os.path.join(save_history_path, \"history_aug_convnext-tiny_15.joblib\"))"
   ]
  }
 ],
 "metadata": {
  "kaggle": {
   "accelerator": "none",
   "dataSources": [
    {
     "datasetId": 7546158,
     "sourceId": 11996609,
     "sourceType": "datasetVersion"
    }
   ],
   "dockerImageVersionId": 31040,
   "isGpuEnabled": false,
   "isInternetEnabled": true,
   "language": "python",
   "sourceType": "notebook"
  },
  "kernelspec": {
   "display_name": "tf2.18",
   "language": "python",
   "name": "python3"
  },
  "language_info": {
   "codemirror_mode": {
    "name": "ipython",
    "version": 3
   },
   "file_extension": ".py",
   "mimetype": "text/x-python",
   "name": "python",
   "nbconvert_exporter": "python",
   "pygments_lexer": "ipython3",
   "version": "3.12.8"
  },
  "papermill": {
   "default_parameters": {},
   "duration": 32.22662,
   "end_time": "2025-05-28T11:17:46.337380",
   "environment_variables": {},
   "exception": true,
   "input_path": "__notebook__.ipynb",
   "output_path": "__notebook__.ipynb",
   "parameters": {},
   "start_time": "2025-05-28T11:17:14.110760",
   "version": "2.6.0"
  }
 },
 "nbformat": 4,
 "nbformat_minor": 5
}
